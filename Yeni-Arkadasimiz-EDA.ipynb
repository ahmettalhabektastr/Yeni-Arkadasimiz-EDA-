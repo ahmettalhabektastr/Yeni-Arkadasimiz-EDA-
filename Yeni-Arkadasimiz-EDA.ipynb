{
 "cells": [
  {
   "cell_type": "markdown",
   "id": "0d221bd2",
   "metadata": {
    "papermill": {
     "duration": 0.011197,
     "end_time": "2023-01-17T16:35:05.243541",
     "exception": false,
     "start_time": "2023-01-17T16:35:05.232344",
     "status": "completed"
    },
    "tags": []
   },
   "source": [
    "# Yeni Arkadaşımız \"EDA\""
   ]
  },
  {
   "cell_type": "markdown",
   "id": "e568dc30",
   "metadata": {
    "_cell_guid": "b1076dfc-b9ad-4769-8c92-a6c4dae69d19",
    "_uuid": "8f2839f25d086af736a60e9eeb907d3b93b6e0e5",
    "papermill": {
     "duration": 0.009274,
     "end_time": "2023-01-17T16:35:05.262516",
     "exception": false,
     "start_time": "2023-01-17T16:35:05.253242",
     "status": "completed"
    },
    "tags": []
   },
   "source": [
    "![](https://miro.medium.com/max/640/1*cBOu28eaQKCTN-y6k5imrw.png)\n",
    "\n",
    "\n",
    "**Bu fotoğraf \"Midjourney\" tarafından üretildi.**"
   ]
  },
  {
   "cell_type": "markdown",
   "id": "8f81a5ee",
   "metadata": {
    "papermill": {
     "duration": 0.011033,
     "end_time": "2023-01-17T16:35:05.283065",
     "exception": false,
     "start_time": "2023-01-17T16:35:05.272032",
     "status": "completed"
    },
    "tags": []
   },
   "source": [
    "Bu notebook,***bu medium yazısının*** notebook halidir."
   ]
  },
  {
   "cell_type": "markdown",
   "id": "b296c1b6",
   "metadata": {
    "papermill": {
     "duration": 0.009175,
     "end_time": "2023-01-17T16:35:05.301896",
     "exception": false,
     "start_time": "2023-01-17T16:35:05.292721",
     "status": "completed"
    },
    "tags": []
   },
   "source": [
    "## İçindekiler:\n",
    "- Neden \"EDA\" bizim için önemli?\n",
    "- Hadi EDA dediğimiz şey ne onu öğrenelim!\n",
    "- .head()\n",
    "- .tail()\n",
    "- .sample()\n",
    "- .describe()\n",
    "- .corr()\n",
    "- .info()\n",
    "- .isnull().sum()\n",
    "- .shape\n",
    "\n",
    "\n",
    "---"
   ]
  },
  {
   "cell_type": "markdown",
   "id": "5f09dac0",
   "metadata": {
    "papermill": {
     "duration": 0.00893,
     "end_time": "2023-01-17T16:35:05.320304",
     "exception": false,
     "start_time": "2023-01-17T16:35:05.311374",
     "status": "completed"
    },
    "tags": []
   },
   "source": [
    "Bu yazı ile ismi \"**EDA**\" olan yeni bir arkadaş edinceksiniz. Veri Bilimcilerin en yakın arkadaşlarından biridir **EDA**.\n",
    "\n",
    "\n",
    "Hadi sizleri **EDA** ile tanıştırıyım. **EDA**, Türkçemizde \"***Açınsayıcı Veri Çözümlemesi***\" veya \"***Keşifsel Veri Analizi***\" diye çevrilmiş olup İngilizce aslı \"***Exploratory Data Analysis***\" dir."
   ]
  },
  {
   "cell_type": "markdown",
   "id": "fc0763cf",
   "metadata": {
    "papermill": {
     "duration": 0.009067,
     "end_time": "2023-01-17T16:35:05.338671",
     "exception": false,
     "start_time": "2023-01-17T16:35:05.329604",
     "status": "completed"
    },
    "tags": []
   },
   "source": [
    "![](https://miro.medium.com/max/1400/0*SMTyS7nGrMze2Qxz)"
   ]
  },
  {
   "cell_type": "markdown",
   "id": "6a4c6e8f",
   "metadata": {
    "papermill": {
     "duration": 0.009058,
     "end_time": "2023-01-17T16:35:05.357089",
     "exception": false,
     "start_time": "2023-01-17T16:35:05.348031",
     "status": "completed"
    },
    "tags": []
   },
   "source": [
    "[Unsplash](https://unsplash.com/?utm_source=medium&utm_medium=referral)'de [Natalya Khartukova](https://unsplash.com/@nataxart?utm_source=medium&utm_medium=referral) tarafından bir fotoğraf"
   ]
  },
  {
   "cell_type": "markdown",
   "id": "4f747193",
   "metadata": {
    "papermill": {
     "duration": 0.009142,
     "end_time": "2023-01-17T16:35:05.375710",
     "exception": false,
     "start_time": "2023-01-17T16:35:05.366568",
     "status": "completed"
    },
    "tags": []
   },
   "source": [
    "> # Neden \"EDA\" bizim için önemli?"
   ]
  },
  {
   "cell_type": "markdown",
   "id": "4ca5ed13",
   "metadata": {
    "papermill": {
     "duration": 0.009101,
     "end_time": "2023-01-17T16:35:05.394057",
     "exception": false,
     "start_time": "2023-01-17T16:35:05.384956",
     "status": "completed"
    },
    "tags": []
   },
   "source": [
    "Verileri okuduktan sonra verilerden bir anlam çıkaramazsak bir şey yapamayız. Dolayısıyla verileri açıkça görmek, verileri daha iyi anlamak verileri temizlemek için **EDA**'ya çok ihtiyacımız var"
   ]
  },
  {
   "cell_type": "markdown",
   "id": "c9320369",
   "metadata": {
    "papermill": {
     "duration": 0.009176,
     "end_time": "2023-01-17T16:35:05.412680",
     "exception": false,
     "start_time": "2023-01-17T16:35:05.403504",
     "status": "completed"
    },
    "tags": []
   },
   "source": [
    "># Hadi EDA dediğimiz şey ne onu öğrenelim!"
   ]
  },
  {
   "cell_type": "markdown",
   "id": "c933e44e",
   "metadata": {
    "papermill": {
     "duration": 0.009756,
     "end_time": "2023-01-17T16:35:05.431715",
     "exception": false,
     "start_time": "2023-01-17T16:35:05.421959",
     "status": "completed"
    },
    "tags": []
   },
   "source": [
    "Bu yazı için **Titanic veri setini** kullanıcam."
   ]
  },
  {
   "cell_type": "markdown",
   "id": "467222ac",
   "metadata": {
    "papermill": {
     "duration": 0.00914,
     "end_time": "2023-01-17T16:35:05.450182",
     "exception": false,
     "start_time": "2023-01-17T16:35:05.441042",
     "status": "completed"
    },
    "tags": []
   },
   "source": [
    "![](https://miro.medium.com/max/828/0*9LrHADi8ECdGOwFJ)"
   ]
  },
  {
   "cell_type": "markdown",
   "id": "c1ca6a7a",
   "metadata": {
    "papermill": {
     "duration": 0.00907,
     "end_time": "2023-01-17T16:35:05.468510",
     "exception": false,
     "start_time": "2023-01-17T16:35:05.459440",
     "status": "completed"
    },
    "tags": []
   },
   "source": [
    "[Unsplash](https://unsplash.com/?utm_source=medium&utm_medium=referral)'de [Nicolas Hoizey](https://unsplash.com/@nhoizey?utm_source=medium&utm_medium=referral) tarafından bir fotoğraf"
   ]
  },
  {
   "cell_type": "markdown",
   "id": "502e43ed",
   "metadata": {
    "papermill": {
     "duration": 0.00904,
     "end_time": "2023-01-17T16:35:05.486793",
     "exception": false,
     "start_time": "2023-01-17T16:35:05.477753",
     "status": "completed"
    },
    "tags": []
   },
   "source": [
    "> # .head()"
   ]
  },
  {
   "cell_type": "markdown",
   "id": "0569c030",
   "metadata": {
    "papermill": {
     "duration": 0.009134,
     "end_time": "2023-01-17T16:35:05.505343",
     "exception": false,
     "start_time": "2023-01-17T16:35:05.496209",
     "status": "completed"
    },
    "tags": []
   },
   "source": [
    "**head()** fonksiyonu verimizdeki ilk 5 satırı gösterir, fakat eğer içine bir sayı girerseniz o sayıya kadar olan satırları gösterir. Mesela **.head(15)** ilk 15 satırı gösterir."
   ]
  },
  {
   "cell_type": "markdown",
   "id": "a824257b",
   "metadata": {
    "papermill": {
     "duration": 0.009082,
     "end_time": "2023-01-17T16:35:05.523707",
     "exception": false,
     "start_time": "2023-01-17T16:35:05.514625",
     "status": "completed"
    },
    "tags": []
   },
   "source": [
    "Eğer veri nasıl okunur bilmiyorsanız [bu yazıyı](https://medium.com/@ahmettalhabektas_tr/veri-d%C3%BCnyas%C4%B1na-i%CC%87lk-ad%C4%B1mlar-3044f0d42170) veya  [bu kodu](https://www.kaggle.com/code/ahmettalhabektastr/veri-d-nyas-na-lk-ad-mlar) okumalısınız."
   ]
  },
  {
   "cell_type": "markdown",
   "id": "e81caa2c",
   "metadata": {
    "papermill": {
     "duration": 0.008992,
     "end_time": "2023-01-17T16:35:05.541831",
     "exception": false,
     "start_time": "2023-01-17T16:35:05.532839",
     "status": "completed"
    },
    "tags": []
   },
   "source": [
    "### **Hadi örnek üstünde yapalım!**"
   ]
  },
  {
   "cell_type": "code",
   "execution_count": 1,
   "id": "71881292",
   "metadata": {
    "execution": {
     "iopub.execute_input": "2023-01-17T16:35:05.563358Z",
     "iopub.status.busy": "2023-01-17T16:35:05.562382Z",
     "iopub.status.idle": "2023-01-17T16:35:05.608412Z",
     "shell.execute_reply": "2023-01-17T16:35:05.607256Z"
    },
    "papermill": {
     "duration": 0.060276,
     "end_time": "2023-01-17T16:35:05.611270",
     "exception": false,
     "start_time": "2023-01-17T16:35:05.550994",
     "status": "completed"
    },
    "tags": []
   },
   "outputs": [
    {
     "data": {
      "text/html": [
       "<div>\n",
       "<style scoped>\n",
       "    .dataframe tbody tr th:only-of-type {\n",
       "        vertical-align: middle;\n",
       "    }\n",
       "\n",
       "    .dataframe tbody tr th {\n",
       "        vertical-align: top;\n",
       "    }\n",
       "\n",
       "    .dataframe thead th {\n",
       "        text-align: right;\n",
       "    }\n",
       "</style>\n",
       "<table border=\"1\" class=\"dataframe\">\n",
       "  <thead>\n",
       "    <tr style=\"text-align: right;\">\n",
       "      <th></th>\n",
       "      <th>PassengerId</th>\n",
       "      <th>Survived</th>\n",
       "      <th>Pclass</th>\n",
       "      <th>Name</th>\n",
       "      <th>Sex</th>\n",
       "      <th>Age</th>\n",
       "      <th>SibSp</th>\n",
       "      <th>Parch</th>\n",
       "      <th>Ticket</th>\n",
       "      <th>Fare</th>\n",
       "      <th>Cabin</th>\n",
       "      <th>Embarked</th>\n",
       "    </tr>\n",
       "  </thead>\n",
       "  <tbody>\n",
       "    <tr>\n",
       "      <th>0</th>\n",
       "      <td>1</td>\n",
       "      <td>0</td>\n",
       "      <td>3</td>\n",
       "      <td>Braund, Mr. Owen Harris</td>\n",
       "      <td>male</td>\n",
       "      <td>22.0</td>\n",
       "      <td>1</td>\n",
       "      <td>0</td>\n",
       "      <td>A/5 21171</td>\n",
       "      <td>7.2500</td>\n",
       "      <td>NaN</td>\n",
       "      <td>S</td>\n",
       "    </tr>\n",
       "    <tr>\n",
       "      <th>1</th>\n",
       "      <td>2</td>\n",
       "      <td>1</td>\n",
       "      <td>1</td>\n",
       "      <td>Cumings, Mrs. John Bradley (Florence Briggs Th...</td>\n",
       "      <td>female</td>\n",
       "      <td>38.0</td>\n",
       "      <td>1</td>\n",
       "      <td>0</td>\n",
       "      <td>PC 17599</td>\n",
       "      <td>71.2833</td>\n",
       "      <td>C85</td>\n",
       "      <td>C</td>\n",
       "    </tr>\n",
       "    <tr>\n",
       "      <th>2</th>\n",
       "      <td>3</td>\n",
       "      <td>1</td>\n",
       "      <td>3</td>\n",
       "      <td>Heikkinen, Miss. Laina</td>\n",
       "      <td>female</td>\n",
       "      <td>26.0</td>\n",
       "      <td>0</td>\n",
       "      <td>0</td>\n",
       "      <td>STON/O2. 3101282</td>\n",
       "      <td>7.9250</td>\n",
       "      <td>NaN</td>\n",
       "      <td>S</td>\n",
       "    </tr>\n",
       "    <tr>\n",
       "      <th>3</th>\n",
       "      <td>4</td>\n",
       "      <td>1</td>\n",
       "      <td>1</td>\n",
       "      <td>Futrelle, Mrs. Jacques Heath (Lily May Peel)</td>\n",
       "      <td>female</td>\n",
       "      <td>35.0</td>\n",
       "      <td>1</td>\n",
       "      <td>0</td>\n",
       "      <td>113803</td>\n",
       "      <td>53.1000</td>\n",
       "      <td>C123</td>\n",
       "      <td>S</td>\n",
       "    </tr>\n",
       "    <tr>\n",
       "      <th>4</th>\n",
       "      <td>5</td>\n",
       "      <td>0</td>\n",
       "      <td>3</td>\n",
       "      <td>Allen, Mr. William Henry</td>\n",
       "      <td>male</td>\n",
       "      <td>35.0</td>\n",
       "      <td>0</td>\n",
       "      <td>0</td>\n",
       "      <td>373450</td>\n",
       "      <td>8.0500</td>\n",
       "      <td>NaN</td>\n",
       "      <td>S</td>\n",
       "    </tr>\n",
       "  </tbody>\n",
       "</table>\n",
       "</div>"
      ],
      "text/plain": [
       "   PassengerId  Survived  Pclass  \\\n",
       "0            1         0       3   \n",
       "1            2         1       1   \n",
       "2            3         1       3   \n",
       "3            4         1       1   \n",
       "4            5         0       3   \n",
       "\n",
       "                                                Name     Sex   Age  SibSp  \\\n",
       "0                            Braund, Mr. Owen Harris    male  22.0      1   \n",
       "1  Cumings, Mrs. John Bradley (Florence Briggs Th...  female  38.0      1   \n",
       "2                             Heikkinen, Miss. Laina  female  26.0      0   \n",
       "3       Futrelle, Mrs. Jacques Heath (Lily May Peel)  female  35.0      1   \n",
       "4                           Allen, Mr. William Henry    male  35.0      0   \n",
       "\n",
       "   Parch            Ticket     Fare Cabin Embarked  \n",
       "0      0         A/5 21171   7.2500   NaN        S  \n",
       "1      0          PC 17599  71.2833   C85        C  \n",
       "2      0  STON/O2. 3101282   7.9250   NaN        S  \n",
       "3      0            113803  53.1000  C123        S  \n",
       "4      0            373450   8.0500   NaN        S  "
      ]
     },
     "execution_count": 1,
     "metadata": {},
     "output_type": "execute_result"
    }
   ],
   "source": [
    "import pandas as pd \n",
    "df=pd.read_csv(\"/kaggle/input/titanic/train.csv\")\n",
    "df.head()"
   ]
  },
  {
   "cell_type": "code",
   "execution_count": 2,
   "id": "97842fae",
   "metadata": {
    "execution": {
     "iopub.execute_input": "2023-01-17T16:35:05.632660Z",
     "iopub.status.busy": "2023-01-17T16:35:05.631942Z",
     "iopub.status.idle": "2023-01-17T16:35:05.652820Z",
     "shell.execute_reply": "2023-01-17T16:35:05.651732Z"
    },
    "papermill": {
     "duration": 0.034014,
     "end_time": "2023-01-17T16:35:05.655148",
     "exception": false,
     "start_time": "2023-01-17T16:35:05.621134",
     "status": "completed"
    },
    "tags": []
   },
   "outputs": [
    {
     "data": {
      "text/html": [
       "<div>\n",
       "<style scoped>\n",
       "    .dataframe tbody tr th:only-of-type {\n",
       "        vertical-align: middle;\n",
       "    }\n",
       "\n",
       "    .dataframe tbody tr th {\n",
       "        vertical-align: top;\n",
       "    }\n",
       "\n",
       "    .dataframe thead th {\n",
       "        text-align: right;\n",
       "    }\n",
       "</style>\n",
       "<table border=\"1\" class=\"dataframe\">\n",
       "  <thead>\n",
       "    <tr style=\"text-align: right;\">\n",
       "      <th></th>\n",
       "      <th>PassengerId</th>\n",
       "      <th>Survived</th>\n",
       "      <th>Pclass</th>\n",
       "      <th>Name</th>\n",
       "      <th>Sex</th>\n",
       "      <th>Age</th>\n",
       "      <th>SibSp</th>\n",
       "      <th>Parch</th>\n",
       "      <th>Ticket</th>\n",
       "      <th>Fare</th>\n",
       "      <th>Cabin</th>\n",
       "      <th>Embarked</th>\n",
       "    </tr>\n",
       "  </thead>\n",
       "  <tbody>\n",
       "    <tr>\n",
       "      <th>0</th>\n",
       "      <td>1</td>\n",
       "      <td>0</td>\n",
       "      <td>3</td>\n",
       "      <td>Braund, Mr. Owen Harris</td>\n",
       "      <td>male</td>\n",
       "      <td>22.0</td>\n",
       "      <td>1</td>\n",
       "      <td>0</td>\n",
       "      <td>A/5 21171</td>\n",
       "      <td>7.2500</td>\n",
       "      <td>NaN</td>\n",
       "      <td>S</td>\n",
       "    </tr>\n",
       "    <tr>\n",
       "      <th>1</th>\n",
       "      <td>2</td>\n",
       "      <td>1</td>\n",
       "      <td>1</td>\n",
       "      <td>Cumings, Mrs. John Bradley (Florence Briggs Th...</td>\n",
       "      <td>female</td>\n",
       "      <td>38.0</td>\n",
       "      <td>1</td>\n",
       "      <td>0</td>\n",
       "      <td>PC 17599</td>\n",
       "      <td>71.2833</td>\n",
       "      <td>C85</td>\n",
       "      <td>C</td>\n",
       "    </tr>\n",
       "    <tr>\n",
       "      <th>2</th>\n",
       "      <td>3</td>\n",
       "      <td>1</td>\n",
       "      <td>3</td>\n",
       "      <td>Heikkinen, Miss. Laina</td>\n",
       "      <td>female</td>\n",
       "      <td>26.0</td>\n",
       "      <td>0</td>\n",
       "      <td>0</td>\n",
       "      <td>STON/O2. 3101282</td>\n",
       "      <td>7.9250</td>\n",
       "      <td>NaN</td>\n",
       "      <td>S</td>\n",
       "    </tr>\n",
       "    <tr>\n",
       "      <th>3</th>\n",
       "      <td>4</td>\n",
       "      <td>1</td>\n",
       "      <td>1</td>\n",
       "      <td>Futrelle, Mrs. Jacques Heath (Lily May Peel)</td>\n",
       "      <td>female</td>\n",
       "      <td>35.0</td>\n",
       "      <td>1</td>\n",
       "      <td>0</td>\n",
       "      <td>113803</td>\n",
       "      <td>53.1000</td>\n",
       "      <td>C123</td>\n",
       "      <td>S</td>\n",
       "    </tr>\n",
       "    <tr>\n",
       "      <th>4</th>\n",
       "      <td>5</td>\n",
       "      <td>0</td>\n",
       "      <td>3</td>\n",
       "      <td>Allen, Mr. William Henry</td>\n",
       "      <td>male</td>\n",
       "      <td>35.0</td>\n",
       "      <td>0</td>\n",
       "      <td>0</td>\n",
       "      <td>373450</td>\n",
       "      <td>8.0500</td>\n",
       "      <td>NaN</td>\n",
       "      <td>S</td>\n",
       "    </tr>\n",
       "    <tr>\n",
       "      <th>5</th>\n",
       "      <td>6</td>\n",
       "      <td>0</td>\n",
       "      <td>3</td>\n",
       "      <td>Moran, Mr. James</td>\n",
       "      <td>male</td>\n",
       "      <td>NaN</td>\n",
       "      <td>0</td>\n",
       "      <td>0</td>\n",
       "      <td>330877</td>\n",
       "      <td>8.4583</td>\n",
       "      <td>NaN</td>\n",
       "      <td>Q</td>\n",
       "    </tr>\n",
       "    <tr>\n",
       "      <th>6</th>\n",
       "      <td>7</td>\n",
       "      <td>0</td>\n",
       "      <td>1</td>\n",
       "      <td>McCarthy, Mr. Timothy J</td>\n",
       "      <td>male</td>\n",
       "      <td>54.0</td>\n",
       "      <td>0</td>\n",
       "      <td>0</td>\n",
       "      <td>17463</td>\n",
       "      <td>51.8625</td>\n",
       "      <td>E46</td>\n",
       "      <td>S</td>\n",
       "    </tr>\n",
       "    <tr>\n",
       "      <th>7</th>\n",
       "      <td>8</td>\n",
       "      <td>0</td>\n",
       "      <td>3</td>\n",
       "      <td>Palsson, Master. Gosta Leonard</td>\n",
       "      <td>male</td>\n",
       "      <td>2.0</td>\n",
       "      <td>3</td>\n",
       "      <td>1</td>\n",
       "      <td>349909</td>\n",
       "      <td>21.0750</td>\n",
       "      <td>NaN</td>\n",
       "      <td>S</td>\n",
       "    </tr>\n",
       "    <tr>\n",
       "      <th>8</th>\n",
       "      <td>9</td>\n",
       "      <td>1</td>\n",
       "      <td>3</td>\n",
       "      <td>Johnson, Mrs. Oscar W (Elisabeth Vilhelmina Berg)</td>\n",
       "      <td>female</td>\n",
       "      <td>27.0</td>\n",
       "      <td>0</td>\n",
       "      <td>2</td>\n",
       "      <td>347742</td>\n",
       "      <td>11.1333</td>\n",
       "      <td>NaN</td>\n",
       "      <td>S</td>\n",
       "    </tr>\n",
       "    <tr>\n",
       "      <th>9</th>\n",
       "      <td>10</td>\n",
       "      <td>1</td>\n",
       "      <td>2</td>\n",
       "      <td>Nasser, Mrs. Nicholas (Adele Achem)</td>\n",
       "      <td>female</td>\n",
       "      <td>14.0</td>\n",
       "      <td>1</td>\n",
       "      <td>0</td>\n",
       "      <td>237736</td>\n",
       "      <td>30.0708</td>\n",
       "      <td>NaN</td>\n",
       "      <td>C</td>\n",
       "    </tr>\n",
       "    <tr>\n",
       "      <th>10</th>\n",
       "      <td>11</td>\n",
       "      <td>1</td>\n",
       "      <td>3</td>\n",
       "      <td>Sandstrom, Miss. Marguerite Rut</td>\n",
       "      <td>female</td>\n",
       "      <td>4.0</td>\n",
       "      <td>1</td>\n",
       "      <td>1</td>\n",
       "      <td>PP 9549</td>\n",
       "      <td>16.7000</td>\n",
       "      <td>G6</td>\n",
       "      <td>S</td>\n",
       "    </tr>\n",
       "    <tr>\n",
       "      <th>11</th>\n",
       "      <td>12</td>\n",
       "      <td>1</td>\n",
       "      <td>1</td>\n",
       "      <td>Bonnell, Miss. Elizabeth</td>\n",
       "      <td>female</td>\n",
       "      <td>58.0</td>\n",
       "      <td>0</td>\n",
       "      <td>0</td>\n",
       "      <td>113783</td>\n",
       "      <td>26.5500</td>\n",
       "      <td>C103</td>\n",
       "      <td>S</td>\n",
       "    </tr>\n",
       "    <tr>\n",
       "      <th>12</th>\n",
       "      <td>13</td>\n",
       "      <td>0</td>\n",
       "      <td>3</td>\n",
       "      <td>Saundercock, Mr. William Henry</td>\n",
       "      <td>male</td>\n",
       "      <td>20.0</td>\n",
       "      <td>0</td>\n",
       "      <td>0</td>\n",
       "      <td>A/5. 2151</td>\n",
       "      <td>8.0500</td>\n",
       "      <td>NaN</td>\n",
       "      <td>S</td>\n",
       "    </tr>\n",
       "    <tr>\n",
       "      <th>13</th>\n",
       "      <td>14</td>\n",
       "      <td>0</td>\n",
       "      <td>3</td>\n",
       "      <td>Andersson, Mr. Anders Johan</td>\n",
       "      <td>male</td>\n",
       "      <td>39.0</td>\n",
       "      <td>1</td>\n",
       "      <td>5</td>\n",
       "      <td>347082</td>\n",
       "      <td>31.2750</td>\n",
       "      <td>NaN</td>\n",
       "      <td>S</td>\n",
       "    </tr>\n",
       "    <tr>\n",
       "      <th>14</th>\n",
       "      <td>15</td>\n",
       "      <td>0</td>\n",
       "      <td>3</td>\n",
       "      <td>Vestrom, Miss. Hulda Amanda Adolfina</td>\n",
       "      <td>female</td>\n",
       "      <td>14.0</td>\n",
       "      <td>0</td>\n",
       "      <td>0</td>\n",
       "      <td>350406</td>\n",
       "      <td>7.8542</td>\n",
       "      <td>NaN</td>\n",
       "      <td>S</td>\n",
       "    </tr>\n",
       "  </tbody>\n",
       "</table>\n",
       "</div>"
      ],
      "text/plain": [
       "    PassengerId  Survived  Pclass  \\\n",
       "0             1         0       3   \n",
       "1             2         1       1   \n",
       "2             3         1       3   \n",
       "3             4         1       1   \n",
       "4             5         0       3   \n",
       "5             6         0       3   \n",
       "6             7         0       1   \n",
       "7             8         0       3   \n",
       "8             9         1       3   \n",
       "9            10         1       2   \n",
       "10           11         1       3   \n",
       "11           12         1       1   \n",
       "12           13         0       3   \n",
       "13           14         0       3   \n",
       "14           15         0       3   \n",
       "\n",
       "                                                 Name     Sex   Age  SibSp  \\\n",
       "0                             Braund, Mr. Owen Harris    male  22.0      1   \n",
       "1   Cumings, Mrs. John Bradley (Florence Briggs Th...  female  38.0      1   \n",
       "2                              Heikkinen, Miss. Laina  female  26.0      0   \n",
       "3        Futrelle, Mrs. Jacques Heath (Lily May Peel)  female  35.0      1   \n",
       "4                            Allen, Mr. William Henry    male  35.0      0   \n",
       "5                                    Moran, Mr. James    male   NaN      0   \n",
       "6                             McCarthy, Mr. Timothy J    male  54.0      0   \n",
       "7                      Palsson, Master. Gosta Leonard    male   2.0      3   \n",
       "8   Johnson, Mrs. Oscar W (Elisabeth Vilhelmina Berg)  female  27.0      0   \n",
       "9                 Nasser, Mrs. Nicholas (Adele Achem)  female  14.0      1   \n",
       "10                    Sandstrom, Miss. Marguerite Rut  female   4.0      1   \n",
       "11                           Bonnell, Miss. Elizabeth  female  58.0      0   \n",
       "12                     Saundercock, Mr. William Henry    male  20.0      0   \n",
       "13                        Andersson, Mr. Anders Johan    male  39.0      1   \n",
       "14               Vestrom, Miss. Hulda Amanda Adolfina  female  14.0      0   \n",
       "\n",
       "    Parch            Ticket     Fare Cabin Embarked  \n",
       "0       0         A/5 21171   7.2500   NaN        S  \n",
       "1       0          PC 17599  71.2833   C85        C  \n",
       "2       0  STON/O2. 3101282   7.9250   NaN        S  \n",
       "3       0            113803  53.1000  C123        S  \n",
       "4       0            373450   8.0500   NaN        S  \n",
       "5       0            330877   8.4583   NaN        Q  \n",
       "6       0             17463  51.8625   E46        S  \n",
       "7       1            349909  21.0750   NaN        S  \n",
       "8       2            347742  11.1333   NaN        S  \n",
       "9       0            237736  30.0708   NaN        C  \n",
       "10      1           PP 9549  16.7000    G6        S  \n",
       "11      0            113783  26.5500  C103        S  \n",
       "12      0         A/5. 2151   8.0500   NaN        S  \n",
       "13      5            347082  31.2750   NaN        S  \n",
       "14      0            350406   7.8542   NaN        S  "
      ]
     },
     "execution_count": 2,
     "metadata": {},
     "output_type": "execute_result"
    }
   ],
   "source": [
    "df.head(15)"
   ]
  },
  {
   "cell_type": "markdown",
   "id": "8fc2498e",
   "metadata": {
    "papermill": {
     "duration": 0.01,
     "end_time": "2023-01-17T16:35:05.675650",
     "exception": false,
     "start_time": "2023-01-17T16:35:05.665650",
     "status": "completed"
    },
    "tags": []
   },
   "source": [
    "> # .tail()"
   ]
  },
  {
   "cell_type": "markdown",
   "id": "b81e6157",
   "metadata": {
    "papermill": {
     "duration": 0.010499,
     "end_time": "2023-01-17T16:35:05.697458",
     "exception": false,
     "start_time": "2023-01-17T16:35:05.686959",
     "status": "completed"
    },
    "tags": []
   },
   "source": [
    "**tail()** fonksiyonu **head()** fonksiyonuna çok benzer, fakat tersten satırları gösterir. Yani içine sayı girilmezse son 5 satır girlirse sondan o satıra kadar gösterir."
   ]
  },
  {
   "cell_type": "markdown",
   "id": "f16067c0",
   "metadata": {
    "papermill": {
     "duration": 0.010255,
     "end_time": "2023-01-17T16:35:05.718954",
     "exception": false,
     "start_time": "2023-01-17T16:35:05.708699",
     "status": "completed"
    },
    "tags": []
   },
   "source": [
    "### **Hadi örnek üstünde yapalım!**"
   ]
  },
  {
   "cell_type": "code",
   "execution_count": 3,
   "id": "56a81039",
   "metadata": {
    "execution": {
     "iopub.execute_input": "2023-01-17T16:35:05.742965Z",
     "iopub.status.busy": "2023-01-17T16:35:05.742517Z",
     "iopub.status.idle": "2023-01-17T16:35:05.760486Z",
     "shell.execute_reply": "2023-01-17T16:35:05.758950Z"
    },
    "papermill": {
     "duration": 0.034468,
     "end_time": "2023-01-17T16:35:05.763964",
     "exception": false,
     "start_time": "2023-01-17T16:35:05.729496",
     "status": "completed"
    },
    "tags": []
   },
   "outputs": [
    {
     "data": {
      "text/html": [
       "<div>\n",
       "<style scoped>\n",
       "    .dataframe tbody tr th:only-of-type {\n",
       "        vertical-align: middle;\n",
       "    }\n",
       "\n",
       "    .dataframe tbody tr th {\n",
       "        vertical-align: top;\n",
       "    }\n",
       "\n",
       "    .dataframe thead th {\n",
       "        text-align: right;\n",
       "    }\n",
       "</style>\n",
       "<table border=\"1\" class=\"dataframe\">\n",
       "  <thead>\n",
       "    <tr style=\"text-align: right;\">\n",
       "      <th></th>\n",
       "      <th>PassengerId</th>\n",
       "      <th>Survived</th>\n",
       "      <th>Pclass</th>\n",
       "      <th>Name</th>\n",
       "      <th>Sex</th>\n",
       "      <th>Age</th>\n",
       "      <th>SibSp</th>\n",
       "      <th>Parch</th>\n",
       "      <th>Ticket</th>\n",
       "      <th>Fare</th>\n",
       "      <th>Cabin</th>\n",
       "      <th>Embarked</th>\n",
       "    </tr>\n",
       "  </thead>\n",
       "  <tbody>\n",
       "    <tr>\n",
       "      <th>886</th>\n",
       "      <td>887</td>\n",
       "      <td>0</td>\n",
       "      <td>2</td>\n",
       "      <td>Montvila, Rev. Juozas</td>\n",
       "      <td>male</td>\n",
       "      <td>27.0</td>\n",
       "      <td>0</td>\n",
       "      <td>0</td>\n",
       "      <td>211536</td>\n",
       "      <td>13.00</td>\n",
       "      <td>NaN</td>\n",
       "      <td>S</td>\n",
       "    </tr>\n",
       "    <tr>\n",
       "      <th>887</th>\n",
       "      <td>888</td>\n",
       "      <td>1</td>\n",
       "      <td>1</td>\n",
       "      <td>Graham, Miss. Margaret Edith</td>\n",
       "      <td>female</td>\n",
       "      <td>19.0</td>\n",
       "      <td>0</td>\n",
       "      <td>0</td>\n",
       "      <td>112053</td>\n",
       "      <td>30.00</td>\n",
       "      <td>B42</td>\n",
       "      <td>S</td>\n",
       "    </tr>\n",
       "    <tr>\n",
       "      <th>888</th>\n",
       "      <td>889</td>\n",
       "      <td>0</td>\n",
       "      <td>3</td>\n",
       "      <td>Johnston, Miss. Catherine Helen \"Carrie\"</td>\n",
       "      <td>female</td>\n",
       "      <td>NaN</td>\n",
       "      <td>1</td>\n",
       "      <td>2</td>\n",
       "      <td>W./C. 6607</td>\n",
       "      <td>23.45</td>\n",
       "      <td>NaN</td>\n",
       "      <td>S</td>\n",
       "    </tr>\n",
       "    <tr>\n",
       "      <th>889</th>\n",
       "      <td>890</td>\n",
       "      <td>1</td>\n",
       "      <td>1</td>\n",
       "      <td>Behr, Mr. Karl Howell</td>\n",
       "      <td>male</td>\n",
       "      <td>26.0</td>\n",
       "      <td>0</td>\n",
       "      <td>0</td>\n",
       "      <td>111369</td>\n",
       "      <td>30.00</td>\n",
       "      <td>C148</td>\n",
       "      <td>C</td>\n",
       "    </tr>\n",
       "    <tr>\n",
       "      <th>890</th>\n",
       "      <td>891</td>\n",
       "      <td>0</td>\n",
       "      <td>3</td>\n",
       "      <td>Dooley, Mr. Patrick</td>\n",
       "      <td>male</td>\n",
       "      <td>32.0</td>\n",
       "      <td>0</td>\n",
       "      <td>0</td>\n",
       "      <td>370376</td>\n",
       "      <td>7.75</td>\n",
       "      <td>NaN</td>\n",
       "      <td>Q</td>\n",
       "    </tr>\n",
       "  </tbody>\n",
       "</table>\n",
       "</div>"
      ],
      "text/plain": [
       "     PassengerId  Survived  Pclass                                      Name  \\\n",
       "886          887         0       2                     Montvila, Rev. Juozas   \n",
       "887          888         1       1              Graham, Miss. Margaret Edith   \n",
       "888          889         0       3  Johnston, Miss. Catherine Helen \"Carrie\"   \n",
       "889          890         1       1                     Behr, Mr. Karl Howell   \n",
       "890          891         0       3                       Dooley, Mr. Patrick   \n",
       "\n",
       "        Sex   Age  SibSp  Parch      Ticket   Fare Cabin Embarked  \n",
       "886    male  27.0      0      0      211536  13.00   NaN        S  \n",
       "887  female  19.0      0      0      112053  30.00   B42        S  \n",
       "888  female   NaN      1      2  W./C. 6607  23.45   NaN        S  \n",
       "889    male  26.0      0      0      111369  30.00  C148        C  \n",
       "890    male  32.0      0      0      370376   7.75   NaN        Q  "
      ]
     },
     "execution_count": 3,
     "metadata": {},
     "output_type": "execute_result"
    }
   ],
   "source": [
    "df.tail()"
   ]
  },
  {
   "cell_type": "code",
   "execution_count": 4,
   "id": "753717b6",
   "metadata": {
    "execution": {
     "iopub.execute_input": "2023-01-17T16:35:05.787960Z",
     "iopub.status.busy": "2023-01-17T16:35:05.787572Z",
     "iopub.status.idle": "2023-01-17T16:35:05.805015Z",
     "shell.execute_reply": "2023-01-17T16:35:05.803904Z"
    },
    "papermill": {
     "duration": 0.032096,
     "end_time": "2023-01-17T16:35:05.807931",
     "exception": false,
     "start_time": "2023-01-17T16:35:05.775835",
     "status": "completed"
    },
    "tags": []
   },
   "outputs": [
    {
     "data": {
      "text/html": [
       "<div>\n",
       "<style scoped>\n",
       "    .dataframe tbody tr th:only-of-type {\n",
       "        vertical-align: middle;\n",
       "    }\n",
       "\n",
       "    .dataframe tbody tr th {\n",
       "        vertical-align: top;\n",
       "    }\n",
       "\n",
       "    .dataframe thead th {\n",
       "        text-align: right;\n",
       "    }\n",
       "</style>\n",
       "<table border=\"1\" class=\"dataframe\">\n",
       "  <thead>\n",
       "    <tr style=\"text-align: right;\">\n",
       "      <th></th>\n",
       "      <th>PassengerId</th>\n",
       "      <th>Survived</th>\n",
       "      <th>Pclass</th>\n",
       "      <th>Name</th>\n",
       "      <th>Sex</th>\n",
       "      <th>Age</th>\n",
       "      <th>SibSp</th>\n",
       "      <th>Parch</th>\n",
       "      <th>Ticket</th>\n",
       "      <th>Fare</th>\n",
       "      <th>Cabin</th>\n",
       "      <th>Embarked</th>\n",
       "    </tr>\n",
       "  </thead>\n",
       "  <tbody>\n",
       "    <tr>\n",
       "      <th>881</th>\n",
       "      <td>882</td>\n",
       "      <td>0</td>\n",
       "      <td>3</td>\n",
       "      <td>Markun, Mr. Johann</td>\n",
       "      <td>male</td>\n",
       "      <td>33.0</td>\n",
       "      <td>0</td>\n",
       "      <td>0</td>\n",
       "      <td>349257</td>\n",
       "      <td>7.8958</td>\n",
       "      <td>NaN</td>\n",
       "      <td>S</td>\n",
       "    </tr>\n",
       "    <tr>\n",
       "      <th>882</th>\n",
       "      <td>883</td>\n",
       "      <td>0</td>\n",
       "      <td>3</td>\n",
       "      <td>Dahlberg, Miss. Gerda Ulrika</td>\n",
       "      <td>female</td>\n",
       "      <td>22.0</td>\n",
       "      <td>0</td>\n",
       "      <td>0</td>\n",
       "      <td>7552</td>\n",
       "      <td>10.5167</td>\n",
       "      <td>NaN</td>\n",
       "      <td>S</td>\n",
       "    </tr>\n",
       "    <tr>\n",
       "      <th>883</th>\n",
       "      <td>884</td>\n",
       "      <td>0</td>\n",
       "      <td>2</td>\n",
       "      <td>Banfield, Mr. Frederick James</td>\n",
       "      <td>male</td>\n",
       "      <td>28.0</td>\n",
       "      <td>0</td>\n",
       "      <td>0</td>\n",
       "      <td>C.A./SOTON 34068</td>\n",
       "      <td>10.5000</td>\n",
       "      <td>NaN</td>\n",
       "      <td>S</td>\n",
       "    </tr>\n",
       "    <tr>\n",
       "      <th>884</th>\n",
       "      <td>885</td>\n",
       "      <td>0</td>\n",
       "      <td>3</td>\n",
       "      <td>Sutehall, Mr. Henry Jr</td>\n",
       "      <td>male</td>\n",
       "      <td>25.0</td>\n",
       "      <td>0</td>\n",
       "      <td>0</td>\n",
       "      <td>SOTON/OQ 392076</td>\n",
       "      <td>7.0500</td>\n",
       "      <td>NaN</td>\n",
       "      <td>S</td>\n",
       "    </tr>\n",
       "    <tr>\n",
       "      <th>885</th>\n",
       "      <td>886</td>\n",
       "      <td>0</td>\n",
       "      <td>3</td>\n",
       "      <td>Rice, Mrs. William (Margaret Norton)</td>\n",
       "      <td>female</td>\n",
       "      <td>39.0</td>\n",
       "      <td>0</td>\n",
       "      <td>5</td>\n",
       "      <td>382652</td>\n",
       "      <td>29.1250</td>\n",
       "      <td>NaN</td>\n",
       "      <td>Q</td>\n",
       "    </tr>\n",
       "    <tr>\n",
       "      <th>886</th>\n",
       "      <td>887</td>\n",
       "      <td>0</td>\n",
       "      <td>2</td>\n",
       "      <td>Montvila, Rev. Juozas</td>\n",
       "      <td>male</td>\n",
       "      <td>27.0</td>\n",
       "      <td>0</td>\n",
       "      <td>0</td>\n",
       "      <td>211536</td>\n",
       "      <td>13.0000</td>\n",
       "      <td>NaN</td>\n",
       "      <td>S</td>\n",
       "    </tr>\n",
       "    <tr>\n",
       "      <th>887</th>\n",
       "      <td>888</td>\n",
       "      <td>1</td>\n",
       "      <td>1</td>\n",
       "      <td>Graham, Miss. Margaret Edith</td>\n",
       "      <td>female</td>\n",
       "      <td>19.0</td>\n",
       "      <td>0</td>\n",
       "      <td>0</td>\n",
       "      <td>112053</td>\n",
       "      <td>30.0000</td>\n",
       "      <td>B42</td>\n",
       "      <td>S</td>\n",
       "    </tr>\n",
       "    <tr>\n",
       "      <th>888</th>\n",
       "      <td>889</td>\n",
       "      <td>0</td>\n",
       "      <td>3</td>\n",
       "      <td>Johnston, Miss. Catherine Helen \"Carrie\"</td>\n",
       "      <td>female</td>\n",
       "      <td>NaN</td>\n",
       "      <td>1</td>\n",
       "      <td>2</td>\n",
       "      <td>W./C. 6607</td>\n",
       "      <td>23.4500</td>\n",
       "      <td>NaN</td>\n",
       "      <td>S</td>\n",
       "    </tr>\n",
       "    <tr>\n",
       "      <th>889</th>\n",
       "      <td>890</td>\n",
       "      <td>1</td>\n",
       "      <td>1</td>\n",
       "      <td>Behr, Mr. Karl Howell</td>\n",
       "      <td>male</td>\n",
       "      <td>26.0</td>\n",
       "      <td>0</td>\n",
       "      <td>0</td>\n",
       "      <td>111369</td>\n",
       "      <td>30.0000</td>\n",
       "      <td>C148</td>\n",
       "      <td>C</td>\n",
       "    </tr>\n",
       "    <tr>\n",
       "      <th>890</th>\n",
       "      <td>891</td>\n",
       "      <td>0</td>\n",
       "      <td>3</td>\n",
       "      <td>Dooley, Mr. Patrick</td>\n",
       "      <td>male</td>\n",
       "      <td>32.0</td>\n",
       "      <td>0</td>\n",
       "      <td>0</td>\n",
       "      <td>370376</td>\n",
       "      <td>7.7500</td>\n",
       "      <td>NaN</td>\n",
       "      <td>Q</td>\n",
       "    </tr>\n",
       "  </tbody>\n",
       "</table>\n",
       "</div>"
      ],
      "text/plain": [
       "     PassengerId  Survived  Pclass                                      Name  \\\n",
       "881          882         0       3                        Markun, Mr. Johann   \n",
       "882          883         0       3              Dahlberg, Miss. Gerda Ulrika   \n",
       "883          884         0       2             Banfield, Mr. Frederick James   \n",
       "884          885         0       3                    Sutehall, Mr. Henry Jr   \n",
       "885          886         0       3      Rice, Mrs. William (Margaret Norton)   \n",
       "886          887         0       2                     Montvila, Rev. Juozas   \n",
       "887          888         1       1              Graham, Miss. Margaret Edith   \n",
       "888          889         0       3  Johnston, Miss. Catherine Helen \"Carrie\"   \n",
       "889          890         1       1                     Behr, Mr. Karl Howell   \n",
       "890          891         0       3                       Dooley, Mr. Patrick   \n",
       "\n",
       "        Sex   Age  SibSp  Parch            Ticket     Fare Cabin Embarked  \n",
       "881    male  33.0      0      0            349257   7.8958   NaN        S  \n",
       "882  female  22.0      0      0              7552  10.5167   NaN        S  \n",
       "883    male  28.0      0      0  C.A./SOTON 34068  10.5000   NaN        S  \n",
       "884    male  25.0      0      0   SOTON/OQ 392076   7.0500   NaN        S  \n",
       "885  female  39.0      0      5            382652  29.1250   NaN        Q  \n",
       "886    male  27.0      0      0            211536  13.0000   NaN        S  \n",
       "887  female  19.0      0      0            112053  30.0000   B42        S  \n",
       "888  female   NaN      1      2        W./C. 6607  23.4500   NaN        S  \n",
       "889    male  26.0      0      0            111369  30.0000  C148        C  \n",
       "890    male  32.0      0      0            370376   7.7500   NaN        Q  "
      ]
     },
     "execution_count": 4,
     "metadata": {},
     "output_type": "execute_result"
    }
   ],
   "source": [
    "df.tail(10)"
   ]
  },
  {
   "cell_type": "markdown",
   "id": "17518a7f",
   "metadata": {
    "papermill": {
     "duration": 0.011818,
     "end_time": "2023-01-17T16:35:05.831081",
     "exception": false,
     "start_time": "2023-01-17T16:35:05.819263",
     "status": "completed"
    },
    "tags": []
   },
   "source": [
    "> # .sample()"
   ]
  },
  {
   "cell_type": "markdown",
   "id": "f232e350",
   "metadata": {
    "papermill": {
     "duration": 0.010861,
     "end_time": "2023-01-17T16:35:05.853071",
     "exception": false,
     "start_time": "2023-01-17T16:35:05.842210",
     "status": "completed"
    },
    "tags": []
   },
   "source": [
    "**sample()** fonksiyonu rastgele bir satır getirir.Fakat içine bir sayı yazarsanız o sayı kadar rastgele satır getirir."
   ]
  },
  {
   "cell_type": "markdown",
   "id": "9e2b7c4c",
   "metadata": {
    "papermill": {
     "duration": 0.011069,
     "end_time": "2023-01-17T16:35:05.882367",
     "exception": false,
     "start_time": "2023-01-17T16:35:05.871298",
     "status": "completed"
    },
    "tags": []
   },
   "source": [
    "### **Hadi örnek üstünde yapalım!**"
   ]
  },
  {
   "cell_type": "code",
   "execution_count": 5,
   "id": "48b52403",
   "metadata": {
    "execution": {
     "iopub.execute_input": "2023-01-17T16:35:05.909930Z",
     "iopub.status.busy": "2023-01-17T16:35:05.909566Z",
     "iopub.status.idle": "2023-01-17T16:35:05.928822Z",
     "shell.execute_reply": "2023-01-17T16:35:05.927701Z"
    },
    "papermill": {
     "duration": 0.03758,
     "end_time": "2023-01-17T16:35:05.931152",
     "exception": false,
     "start_time": "2023-01-17T16:35:05.893572",
     "status": "completed"
    },
    "tags": []
   },
   "outputs": [
    {
     "data": {
      "text/html": [
       "<div>\n",
       "<style scoped>\n",
       "    .dataframe tbody tr th:only-of-type {\n",
       "        vertical-align: middle;\n",
       "    }\n",
       "\n",
       "    .dataframe tbody tr th {\n",
       "        vertical-align: top;\n",
       "    }\n",
       "\n",
       "    .dataframe thead th {\n",
       "        text-align: right;\n",
       "    }\n",
       "</style>\n",
       "<table border=\"1\" class=\"dataframe\">\n",
       "  <thead>\n",
       "    <tr style=\"text-align: right;\">\n",
       "      <th></th>\n",
       "      <th>PassengerId</th>\n",
       "      <th>Survived</th>\n",
       "      <th>Pclass</th>\n",
       "      <th>Name</th>\n",
       "      <th>Sex</th>\n",
       "      <th>Age</th>\n",
       "      <th>SibSp</th>\n",
       "      <th>Parch</th>\n",
       "      <th>Ticket</th>\n",
       "      <th>Fare</th>\n",
       "      <th>Cabin</th>\n",
       "      <th>Embarked</th>\n",
       "    </tr>\n",
       "  </thead>\n",
       "  <tbody>\n",
       "    <tr>\n",
       "      <th>864</th>\n",
       "      <td>865</td>\n",
       "      <td>0</td>\n",
       "      <td>2</td>\n",
       "      <td>Gill, Mr. John William</td>\n",
       "      <td>male</td>\n",
       "      <td>24.0</td>\n",
       "      <td>0</td>\n",
       "      <td>0</td>\n",
       "      <td>233866</td>\n",
       "      <td>13.0</td>\n",
       "      <td>NaN</td>\n",
       "      <td>S</td>\n",
       "    </tr>\n",
       "  </tbody>\n",
       "</table>\n",
       "</div>"
      ],
      "text/plain": [
       "     PassengerId  Survived  Pclass                    Name   Sex   Age  SibSp  \\\n",
       "864          865         0       2  Gill, Mr. John William  male  24.0      0   \n",
       "\n",
       "     Parch  Ticket  Fare Cabin Embarked  \n",
       "864      0  233866  13.0   NaN        S  "
      ]
     },
     "execution_count": 5,
     "metadata": {},
     "output_type": "execute_result"
    }
   ],
   "source": [
    "df.sample()"
   ]
  },
  {
   "cell_type": "code",
   "execution_count": 6,
   "id": "106fe96f",
   "metadata": {
    "execution": {
     "iopub.execute_input": "2023-01-17T16:35:05.956050Z",
     "iopub.status.busy": "2023-01-17T16:35:05.955297Z",
     "iopub.status.idle": "2023-01-17T16:35:05.980555Z",
     "shell.execute_reply": "2023-01-17T16:35:05.979343Z"
    },
    "papermill": {
     "duration": 0.040518,
     "end_time": "2023-01-17T16:35:05.983030",
     "exception": false,
     "start_time": "2023-01-17T16:35:05.942512",
     "status": "completed"
    },
    "tags": []
   },
   "outputs": [
    {
     "data": {
      "text/html": [
       "<div>\n",
       "<style scoped>\n",
       "    .dataframe tbody tr th:only-of-type {\n",
       "        vertical-align: middle;\n",
       "    }\n",
       "\n",
       "    .dataframe tbody tr th {\n",
       "        vertical-align: top;\n",
       "    }\n",
       "\n",
       "    .dataframe thead th {\n",
       "        text-align: right;\n",
       "    }\n",
       "</style>\n",
       "<table border=\"1\" class=\"dataframe\">\n",
       "  <thead>\n",
       "    <tr style=\"text-align: right;\">\n",
       "      <th></th>\n",
       "      <th>PassengerId</th>\n",
       "      <th>Survived</th>\n",
       "      <th>Pclass</th>\n",
       "      <th>Name</th>\n",
       "      <th>Sex</th>\n",
       "      <th>Age</th>\n",
       "      <th>SibSp</th>\n",
       "      <th>Parch</th>\n",
       "      <th>Ticket</th>\n",
       "      <th>Fare</th>\n",
       "      <th>Cabin</th>\n",
       "      <th>Embarked</th>\n",
       "    </tr>\n",
       "  </thead>\n",
       "  <tbody>\n",
       "    <tr>\n",
       "      <th>69</th>\n",
       "      <td>70</td>\n",
       "      <td>0</td>\n",
       "      <td>3</td>\n",
       "      <td>Kink, Mr. Vincenz</td>\n",
       "      <td>male</td>\n",
       "      <td>26.0</td>\n",
       "      <td>2</td>\n",
       "      <td>0</td>\n",
       "      <td>315151</td>\n",
       "      <td>8.6625</td>\n",
       "      <td>NaN</td>\n",
       "      <td>S</td>\n",
       "    </tr>\n",
       "    <tr>\n",
       "      <th>48</th>\n",
       "      <td>49</td>\n",
       "      <td>0</td>\n",
       "      <td>3</td>\n",
       "      <td>Samaan, Mr. Youssef</td>\n",
       "      <td>male</td>\n",
       "      <td>NaN</td>\n",
       "      <td>2</td>\n",
       "      <td>0</td>\n",
       "      <td>2662</td>\n",
       "      <td>21.6792</td>\n",
       "      <td>NaN</td>\n",
       "      <td>C</td>\n",
       "    </tr>\n",
       "    <tr>\n",
       "      <th>481</th>\n",
       "      <td>482</td>\n",
       "      <td>0</td>\n",
       "      <td>2</td>\n",
       "      <td>Frost, Mr. Anthony Wood \"Archie\"</td>\n",
       "      <td>male</td>\n",
       "      <td>NaN</td>\n",
       "      <td>0</td>\n",
       "      <td>0</td>\n",
       "      <td>239854</td>\n",
       "      <td>0.0000</td>\n",
       "      <td>NaN</td>\n",
       "      <td>S</td>\n",
       "    </tr>\n",
       "    <tr>\n",
       "      <th>20</th>\n",
       "      <td>21</td>\n",
       "      <td>0</td>\n",
       "      <td>2</td>\n",
       "      <td>Fynney, Mr. Joseph J</td>\n",
       "      <td>male</td>\n",
       "      <td>35.0</td>\n",
       "      <td>0</td>\n",
       "      <td>0</td>\n",
       "      <td>239865</td>\n",
       "      <td>26.0000</td>\n",
       "      <td>NaN</td>\n",
       "      <td>S</td>\n",
       "    </tr>\n",
       "    <tr>\n",
       "      <th>631</th>\n",
       "      <td>632</td>\n",
       "      <td>0</td>\n",
       "      <td>3</td>\n",
       "      <td>Lundahl, Mr. Johan Svensson</td>\n",
       "      <td>male</td>\n",
       "      <td>51.0</td>\n",
       "      <td>0</td>\n",
       "      <td>0</td>\n",
       "      <td>347743</td>\n",
       "      <td>7.0542</td>\n",
       "      <td>NaN</td>\n",
       "      <td>S</td>\n",
       "    </tr>\n",
       "    <tr>\n",
       "      <th>572</th>\n",
       "      <td>573</td>\n",
       "      <td>1</td>\n",
       "      <td>1</td>\n",
       "      <td>Flynn, Mr. John Irwin (\"Irving\")</td>\n",
       "      <td>male</td>\n",
       "      <td>36.0</td>\n",
       "      <td>0</td>\n",
       "      <td>0</td>\n",
       "      <td>PC 17474</td>\n",
       "      <td>26.3875</td>\n",
       "      <td>E25</td>\n",
       "      <td>S</td>\n",
       "    </tr>\n",
       "    <tr>\n",
       "      <th>537</th>\n",
       "      <td>538</td>\n",
       "      <td>1</td>\n",
       "      <td>1</td>\n",
       "      <td>LeRoy, Miss. Bertha</td>\n",
       "      <td>female</td>\n",
       "      <td>30.0</td>\n",
       "      <td>0</td>\n",
       "      <td>0</td>\n",
       "      <td>PC 17761</td>\n",
       "      <td>106.4250</td>\n",
       "      <td>NaN</td>\n",
       "      <td>C</td>\n",
       "    </tr>\n",
       "    <tr>\n",
       "      <th>18</th>\n",
       "      <td>19</td>\n",
       "      <td>0</td>\n",
       "      <td>3</td>\n",
       "      <td>Vander Planke, Mrs. Julius (Emelia Maria Vande...</td>\n",
       "      <td>female</td>\n",
       "      <td>31.0</td>\n",
       "      <td>1</td>\n",
       "      <td>0</td>\n",
       "      <td>345763</td>\n",
       "      <td>18.0000</td>\n",
       "      <td>NaN</td>\n",
       "      <td>S</td>\n",
       "    </tr>\n",
       "    <tr>\n",
       "      <th>594</th>\n",
       "      <td>595</td>\n",
       "      <td>0</td>\n",
       "      <td>2</td>\n",
       "      <td>Chapman, Mr. John Henry</td>\n",
       "      <td>male</td>\n",
       "      <td>37.0</td>\n",
       "      <td>1</td>\n",
       "      <td>0</td>\n",
       "      <td>SC/AH 29037</td>\n",
       "      <td>26.0000</td>\n",
       "      <td>NaN</td>\n",
       "      <td>S</td>\n",
       "    </tr>\n",
       "    <tr>\n",
       "      <th>557</th>\n",
       "      <td>558</td>\n",
       "      <td>0</td>\n",
       "      <td>1</td>\n",
       "      <td>Robbins, Mr. Victor</td>\n",
       "      <td>male</td>\n",
       "      <td>NaN</td>\n",
       "      <td>0</td>\n",
       "      <td>0</td>\n",
       "      <td>PC 17757</td>\n",
       "      <td>227.5250</td>\n",
       "      <td>NaN</td>\n",
       "      <td>C</td>\n",
       "    </tr>\n",
       "    <tr>\n",
       "      <th>782</th>\n",
       "      <td>783</td>\n",
       "      <td>0</td>\n",
       "      <td>1</td>\n",
       "      <td>Long, Mr. Milton Clyde</td>\n",
       "      <td>male</td>\n",
       "      <td>29.0</td>\n",
       "      <td>0</td>\n",
       "      <td>0</td>\n",
       "      <td>113501</td>\n",
       "      <td>30.0000</td>\n",
       "      <td>D6</td>\n",
       "      <td>S</td>\n",
       "    </tr>\n",
       "    <tr>\n",
       "      <th>277</th>\n",
       "      <td>278</td>\n",
       "      <td>0</td>\n",
       "      <td>2</td>\n",
       "      <td>Parkes, Mr. Francis \"Frank\"</td>\n",
       "      <td>male</td>\n",
       "      <td>NaN</td>\n",
       "      <td>0</td>\n",
       "      <td>0</td>\n",
       "      <td>239853</td>\n",
       "      <td>0.0000</td>\n",
       "      <td>NaN</td>\n",
       "      <td>S</td>\n",
       "    </tr>\n",
       "    <tr>\n",
       "      <th>294</th>\n",
       "      <td>295</td>\n",
       "      <td>0</td>\n",
       "      <td>3</td>\n",
       "      <td>Mineff, Mr. Ivan</td>\n",
       "      <td>male</td>\n",
       "      <td>24.0</td>\n",
       "      <td>0</td>\n",
       "      <td>0</td>\n",
       "      <td>349233</td>\n",
       "      <td>7.8958</td>\n",
       "      <td>NaN</td>\n",
       "      <td>S</td>\n",
       "    </tr>\n",
       "    <tr>\n",
       "      <th>246</th>\n",
       "      <td>247</td>\n",
       "      <td>0</td>\n",
       "      <td>3</td>\n",
       "      <td>Lindahl, Miss. Agda Thorilda Viktoria</td>\n",
       "      <td>female</td>\n",
       "      <td>25.0</td>\n",
       "      <td>0</td>\n",
       "      <td>0</td>\n",
       "      <td>347071</td>\n",
       "      <td>7.7750</td>\n",
       "      <td>NaN</td>\n",
       "      <td>S</td>\n",
       "    </tr>\n",
       "    <tr>\n",
       "      <th>149</th>\n",
       "      <td>150</td>\n",
       "      <td>0</td>\n",
       "      <td>2</td>\n",
       "      <td>Byles, Rev. Thomas Roussel Davids</td>\n",
       "      <td>male</td>\n",
       "      <td>42.0</td>\n",
       "      <td>0</td>\n",
       "      <td>0</td>\n",
       "      <td>244310</td>\n",
       "      <td>13.0000</td>\n",
       "      <td>NaN</td>\n",
       "      <td>S</td>\n",
       "    </tr>\n",
       "  </tbody>\n",
       "</table>\n",
       "</div>"
      ],
      "text/plain": [
       "     PassengerId  Survived  Pclass  \\\n",
       "69            70         0       3   \n",
       "48            49         0       3   \n",
       "481          482         0       2   \n",
       "20            21         0       2   \n",
       "631          632         0       3   \n",
       "572          573         1       1   \n",
       "537          538         1       1   \n",
       "18            19         0       3   \n",
       "594          595         0       2   \n",
       "557          558         0       1   \n",
       "782          783         0       1   \n",
       "277          278         0       2   \n",
       "294          295         0       3   \n",
       "246          247         0       3   \n",
       "149          150         0       2   \n",
       "\n",
       "                                                  Name     Sex   Age  SibSp  \\\n",
       "69                                   Kink, Mr. Vincenz    male  26.0      2   \n",
       "48                                 Samaan, Mr. Youssef    male   NaN      2   \n",
       "481                   Frost, Mr. Anthony Wood \"Archie\"    male   NaN      0   \n",
       "20                                Fynney, Mr. Joseph J    male  35.0      0   \n",
       "631                        Lundahl, Mr. Johan Svensson    male  51.0      0   \n",
       "572                   Flynn, Mr. John Irwin (\"Irving\")    male  36.0      0   \n",
       "537                                LeRoy, Miss. Bertha  female  30.0      0   \n",
       "18   Vander Planke, Mrs. Julius (Emelia Maria Vande...  female  31.0      1   \n",
       "594                            Chapman, Mr. John Henry    male  37.0      1   \n",
       "557                                Robbins, Mr. Victor    male   NaN      0   \n",
       "782                             Long, Mr. Milton Clyde    male  29.0      0   \n",
       "277                        Parkes, Mr. Francis \"Frank\"    male   NaN      0   \n",
       "294                                   Mineff, Mr. Ivan    male  24.0      0   \n",
       "246              Lindahl, Miss. Agda Thorilda Viktoria  female  25.0      0   \n",
       "149                  Byles, Rev. Thomas Roussel Davids    male  42.0      0   \n",
       "\n",
       "     Parch       Ticket      Fare Cabin Embarked  \n",
       "69       0       315151    8.6625   NaN        S  \n",
       "48       0         2662   21.6792   NaN        C  \n",
       "481      0       239854    0.0000   NaN        S  \n",
       "20       0       239865   26.0000   NaN        S  \n",
       "631      0       347743    7.0542   NaN        S  \n",
       "572      0     PC 17474   26.3875   E25        S  \n",
       "537      0     PC 17761  106.4250   NaN        C  \n",
       "18       0       345763   18.0000   NaN        S  \n",
       "594      0  SC/AH 29037   26.0000   NaN        S  \n",
       "557      0     PC 17757  227.5250   NaN        C  \n",
       "782      0       113501   30.0000    D6        S  \n",
       "277      0       239853    0.0000   NaN        S  \n",
       "294      0       349233    7.8958   NaN        S  \n",
       "246      0       347071    7.7750   NaN        S  \n",
       "149      0       244310   13.0000   NaN        S  "
      ]
     },
     "execution_count": 6,
     "metadata": {},
     "output_type": "execute_result"
    }
   ],
   "source": [
    "df.sample(15)"
   ]
  },
  {
   "cell_type": "markdown",
   "id": "f95cffa2",
   "metadata": {
    "papermill": {
     "duration": 0.011737,
     "end_time": "2023-01-17T16:35:06.007021",
     "exception": false,
     "start_time": "2023-01-17T16:35:05.995284",
     "status": "completed"
    },
    "tags": []
   },
   "source": [
    "> # .describe()"
   ]
  },
  {
   "cell_type": "markdown",
   "id": "9baeec88",
   "metadata": {
    "papermill": {
     "duration": 0.011941,
     "end_time": "2023-01-17T16:35:06.031342",
     "exception": false,
     "start_time": "2023-01-17T16:35:06.019401",
     "status": "completed"
    },
    "tags": []
   },
   "source": [
    "**describe()** fonksiyonu istatiksel değerleri hesaplar (min, max, mean…) ve bu hesapladıkları değerleri gösterir."
   ]
  },
  {
   "cell_type": "markdown",
   "id": "190d622a",
   "metadata": {
    "papermill": {
     "duration": 0.011772,
     "end_time": "2023-01-17T16:35:06.055248",
     "exception": false,
     "start_time": "2023-01-17T16:35:06.043476",
     "status": "completed"
    },
    "tags": []
   },
   "source": [
    "### **Hadi örnek üstünde yapalım!**"
   ]
  },
  {
   "cell_type": "code",
   "execution_count": 7,
   "id": "6c2e3ef2",
   "metadata": {
    "execution": {
     "iopub.execute_input": "2023-01-17T16:35:06.086051Z",
     "iopub.status.busy": "2023-01-17T16:35:06.085098Z",
     "iopub.status.idle": "2023-01-17T16:35:06.129743Z",
     "shell.execute_reply": "2023-01-17T16:35:06.128500Z"
    },
    "papermill": {
     "duration": 0.063702,
     "end_time": "2023-01-17T16:35:06.132493",
     "exception": false,
     "start_time": "2023-01-17T16:35:06.068791",
     "status": "completed"
    },
    "tags": []
   },
   "outputs": [
    {
     "data": {
      "text/html": [
       "<div>\n",
       "<style scoped>\n",
       "    .dataframe tbody tr th:only-of-type {\n",
       "        vertical-align: middle;\n",
       "    }\n",
       "\n",
       "    .dataframe tbody tr th {\n",
       "        vertical-align: top;\n",
       "    }\n",
       "\n",
       "    .dataframe thead th {\n",
       "        text-align: right;\n",
       "    }\n",
       "</style>\n",
       "<table border=\"1\" class=\"dataframe\">\n",
       "  <thead>\n",
       "    <tr style=\"text-align: right;\">\n",
       "      <th></th>\n",
       "      <th>PassengerId</th>\n",
       "      <th>Survived</th>\n",
       "      <th>Pclass</th>\n",
       "      <th>Age</th>\n",
       "      <th>SibSp</th>\n",
       "      <th>Parch</th>\n",
       "      <th>Fare</th>\n",
       "    </tr>\n",
       "  </thead>\n",
       "  <tbody>\n",
       "    <tr>\n",
       "      <th>count</th>\n",
       "      <td>891.000000</td>\n",
       "      <td>891.000000</td>\n",
       "      <td>891.000000</td>\n",
       "      <td>714.000000</td>\n",
       "      <td>891.000000</td>\n",
       "      <td>891.000000</td>\n",
       "      <td>891.000000</td>\n",
       "    </tr>\n",
       "    <tr>\n",
       "      <th>mean</th>\n",
       "      <td>446.000000</td>\n",
       "      <td>0.383838</td>\n",
       "      <td>2.308642</td>\n",
       "      <td>29.699118</td>\n",
       "      <td>0.523008</td>\n",
       "      <td>0.381594</td>\n",
       "      <td>32.204208</td>\n",
       "    </tr>\n",
       "    <tr>\n",
       "      <th>std</th>\n",
       "      <td>257.353842</td>\n",
       "      <td>0.486592</td>\n",
       "      <td>0.836071</td>\n",
       "      <td>14.526497</td>\n",
       "      <td>1.102743</td>\n",
       "      <td>0.806057</td>\n",
       "      <td>49.693429</td>\n",
       "    </tr>\n",
       "    <tr>\n",
       "      <th>min</th>\n",
       "      <td>1.000000</td>\n",
       "      <td>0.000000</td>\n",
       "      <td>1.000000</td>\n",
       "      <td>0.420000</td>\n",
       "      <td>0.000000</td>\n",
       "      <td>0.000000</td>\n",
       "      <td>0.000000</td>\n",
       "    </tr>\n",
       "    <tr>\n",
       "      <th>25%</th>\n",
       "      <td>223.500000</td>\n",
       "      <td>0.000000</td>\n",
       "      <td>2.000000</td>\n",
       "      <td>20.125000</td>\n",
       "      <td>0.000000</td>\n",
       "      <td>0.000000</td>\n",
       "      <td>7.910400</td>\n",
       "    </tr>\n",
       "    <tr>\n",
       "      <th>50%</th>\n",
       "      <td>446.000000</td>\n",
       "      <td>0.000000</td>\n",
       "      <td>3.000000</td>\n",
       "      <td>28.000000</td>\n",
       "      <td>0.000000</td>\n",
       "      <td>0.000000</td>\n",
       "      <td>14.454200</td>\n",
       "    </tr>\n",
       "    <tr>\n",
       "      <th>75%</th>\n",
       "      <td>668.500000</td>\n",
       "      <td>1.000000</td>\n",
       "      <td>3.000000</td>\n",
       "      <td>38.000000</td>\n",
       "      <td>1.000000</td>\n",
       "      <td>0.000000</td>\n",
       "      <td>31.000000</td>\n",
       "    </tr>\n",
       "    <tr>\n",
       "      <th>max</th>\n",
       "      <td>891.000000</td>\n",
       "      <td>1.000000</td>\n",
       "      <td>3.000000</td>\n",
       "      <td>80.000000</td>\n",
       "      <td>8.000000</td>\n",
       "      <td>6.000000</td>\n",
       "      <td>512.329200</td>\n",
       "    </tr>\n",
       "  </tbody>\n",
       "</table>\n",
       "</div>"
      ],
      "text/plain": [
       "       PassengerId    Survived      Pclass         Age       SibSp  \\\n",
       "count   891.000000  891.000000  891.000000  714.000000  891.000000   \n",
       "mean    446.000000    0.383838    2.308642   29.699118    0.523008   \n",
       "std     257.353842    0.486592    0.836071   14.526497    1.102743   \n",
       "min       1.000000    0.000000    1.000000    0.420000    0.000000   \n",
       "25%     223.500000    0.000000    2.000000   20.125000    0.000000   \n",
       "50%     446.000000    0.000000    3.000000   28.000000    0.000000   \n",
       "75%     668.500000    1.000000    3.000000   38.000000    1.000000   \n",
       "max     891.000000    1.000000    3.000000   80.000000    8.000000   \n",
       "\n",
       "            Parch        Fare  \n",
       "count  891.000000  891.000000  \n",
       "mean     0.381594   32.204208  \n",
       "std      0.806057   49.693429  \n",
       "min      0.000000    0.000000  \n",
       "25%      0.000000    7.910400  \n",
       "50%      0.000000   14.454200  \n",
       "75%      0.000000   31.000000  \n",
       "max      6.000000  512.329200  "
      ]
     },
     "execution_count": 7,
     "metadata": {},
     "output_type": "execute_result"
    }
   ],
   "source": [
    "df.describe()"
   ]
  },
  {
   "cell_type": "markdown",
   "id": "ff96823c",
   "metadata": {
    "papermill": {
     "duration": 0.014284,
     "end_time": "2023-01-17T16:35:06.160065",
     "exception": false,
     "start_time": "2023-01-17T16:35:06.145781",
     "status": "completed"
    },
    "tags": []
   },
   "source": [
    "> # .corr()"
   ]
  },
  {
   "cell_type": "markdown",
   "id": "49446dea",
   "metadata": {
    "papermill": {
     "duration": 0.011292,
     "end_time": "2023-01-17T16:35:06.182961",
     "exception": false,
     "start_time": "2023-01-17T16:35:06.171669",
     "status": "completed"
    },
    "tags": []
   },
   "source": [
    "Her şeyin birbiriyle bir ilişkisi vardır. Hatta sizin bu yazıyı okumanız ile yarın sabah kahvaltınızda yumurta yemenizin bile bir bağlantısı var (En azından matematşksel olarak 😅). **corr()** fonksiyonu sütunların birbiri ile olan korelasyonunu bizlere gösterir."
   ]
  },
  {
   "cell_type": "markdown",
   "id": "7e0d2dce",
   "metadata": {
    "papermill": {
     "duration": 0.011219,
     "end_time": "2023-01-17T16:35:06.205873",
     "exception": false,
     "start_time": "2023-01-17T16:35:06.194654",
     "status": "completed"
    },
    "tags": []
   },
   "source": [
    "### **Hadi örnek üstünde yapalım!**"
   ]
  },
  {
   "cell_type": "code",
   "execution_count": 8,
   "id": "535d576a",
   "metadata": {
    "execution": {
     "iopub.execute_input": "2023-01-17T16:35:06.231539Z",
     "iopub.status.busy": "2023-01-17T16:35:06.230511Z",
     "iopub.status.idle": "2023-01-17T16:35:06.247915Z",
     "shell.execute_reply": "2023-01-17T16:35:06.246905Z"
    },
    "papermill": {
     "duration": 0.032479,
     "end_time": "2023-01-17T16:35:06.250086",
     "exception": false,
     "start_time": "2023-01-17T16:35:06.217607",
     "status": "completed"
    },
    "tags": []
   },
   "outputs": [
    {
     "data": {
      "text/html": [
       "<div>\n",
       "<style scoped>\n",
       "    .dataframe tbody tr th:only-of-type {\n",
       "        vertical-align: middle;\n",
       "    }\n",
       "\n",
       "    .dataframe tbody tr th {\n",
       "        vertical-align: top;\n",
       "    }\n",
       "\n",
       "    .dataframe thead th {\n",
       "        text-align: right;\n",
       "    }\n",
       "</style>\n",
       "<table border=\"1\" class=\"dataframe\">\n",
       "  <thead>\n",
       "    <tr style=\"text-align: right;\">\n",
       "      <th></th>\n",
       "      <th>PassengerId</th>\n",
       "      <th>Survived</th>\n",
       "      <th>Pclass</th>\n",
       "      <th>Age</th>\n",
       "      <th>SibSp</th>\n",
       "      <th>Parch</th>\n",
       "      <th>Fare</th>\n",
       "    </tr>\n",
       "  </thead>\n",
       "  <tbody>\n",
       "    <tr>\n",
       "      <th>PassengerId</th>\n",
       "      <td>1.000000</td>\n",
       "      <td>-0.005007</td>\n",
       "      <td>-0.035144</td>\n",
       "      <td>0.036847</td>\n",
       "      <td>-0.057527</td>\n",
       "      <td>-0.001652</td>\n",
       "      <td>0.012658</td>\n",
       "    </tr>\n",
       "    <tr>\n",
       "      <th>Survived</th>\n",
       "      <td>-0.005007</td>\n",
       "      <td>1.000000</td>\n",
       "      <td>-0.338481</td>\n",
       "      <td>-0.077221</td>\n",
       "      <td>-0.035322</td>\n",
       "      <td>0.081629</td>\n",
       "      <td>0.257307</td>\n",
       "    </tr>\n",
       "    <tr>\n",
       "      <th>Pclass</th>\n",
       "      <td>-0.035144</td>\n",
       "      <td>-0.338481</td>\n",
       "      <td>1.000000</td>\n",
       "      <td>-0.369226</td>\n",
       "      <td>0.083081</td>\n",
       "      <td>0.018443</td>\n",
       "      <td>-0.549500</td>\n",
       "    </tr>\n",
       "    <tr>\n",
       "      <th>Age</th>\n",
       "      <td>0.036847</td>\n",
       "      <td>-0.077221</td>\n",
       "      <td>-0.369226</td>\n",
       "      <td>1.000000</td>\n",
       "      <td>-0.308247</td>\n",
       "      <td>-0.189119</td>\n",
       "      <td>0.096067</td>\n",
       "    </tr>\n",
       "    <tr>\n",
       "      <th>SibSp</th>\n",
       "      <td>-0.057527</td>\n",
       "      <td>-0.035322</td>\n",
       "      <td>0.083081</td>\n",
       "      <td>-0.308247</td>\n",
       "      <td>1.000000</td>\n",
       "      <td>0.414838</td>\n",
       "      <td>0.159651</td>\n",
       "    </tr>\n",
       "    <tr>\n",
       "      <th>Parch</th>\n",
       "      <td>-0.001652</td>\n",
       "      <td>0.081629</td>\n",
       "      <td>0.018443</td>\n",
       "      <td>-0.189119</td>\n",
       "      <td>0.414838</td>\n",
       "      <td>1.000000</td>\n",
       "      <td>0.216225</td>\n",
       "    </tr>\n",
       "    <tr>\n",
       "      <th>Fare</th>\n",
       "      <td>0.012658</td>\n",
       "      <td>0.257307</td>\n",
       "      <td>-0.549500</td>\n",
       "      <td>0.096067</td>\n",
       "      <td>0.159651</td>\n",
       "      <td>0.216225</td>\n",
       "      <td>1.000000</td>\n",
       "    </tr>\n",
       "  </tbody>\n",
       "</table>\n",
       "</div>"
      ],
      "text/plain": [
       "             PassengerId  Survived    Pclass       Age     SibSp     Parch  \\\n",
       "PassengerId     1.000000 -0.005007 -0.035144  0.036847 -0.057527 -0.001652   \n",
       "Survived       -0.005007  1.000000 -0.338481 -0.077221 -0.035322  0.081629   \n",
       "Pclass         -0.035144 -0.338481  1.000000 -0.369226  0.083081  0.018443   \n",
       "Age             0.036847 -0.077221 -0.369226  1.000000 -0.308247 -0.189119   \n",
       "SibSp          -0.057527 -0.035322  0.083081 -0.308247  1.000000  0.414838   \n",
       "Parch          -0.001652  0.081629  0.018443 -0.189119  0.414838  1.000000   \n",
       "Fare            0.012658  0.257307 -0.549500  0.096067  0.159651  0.216225   \n",
       "\n",
       "                 Fare  \n",
       "PassengerId  0.012658  \n",
       "Survived     0.257307  \n",
       "Pclass      -0.549500  \n",
       "Age          0.096067  \n",
       "SibSp        0.159651  \n",
       "Parch        0.216225  \n",
       "Fare         1.000000  "
      ]
     },
     "execution_count": 8,
     "metadata": {},
     "output_type": "execute_result"
    }
   ],
   "source": [
    "df.corr()"
   ]
  },
  {
   "cell_type": "markdown",
   "id": "966a5465",
   "metadata": {
    "papermill": {
     "duration": 0.012078,
     "end_time": "2023-01-17T16:35:06.274496",
     "exception": false,
     "start_time": "2023-01-17T16:35:06.262418",
     "status": "completed"
    },
    "tags": []
   },
   "source": [
    "> # .info()"
   ]
  },
  {
   "cell_type": "markdown",
   "id": "357719f6",
   "metadata": {
    "papermill": {
     "duration": 0.011731,
     "end_time": "2023-01-17T16:35:06.298384",
     "exception": false,
     "start_time": "2023-01-17T16:35:06.286653",
     "status": "completed"
    },
    "tags": []
   },
   "source": [
    "**info()** fonksiyonu bize veri hakkında genel bilgiler verir. Verinin türü nedir? object, integer, or float? Kaç tane sütunlar da satır dolu?\n",
    "\n",
    "\n",
    "**info()** fonksiyonu bize bunların cevabını verir."
   ]
  },
  {
   "cell_type": "markdown",
   "id": "183546db",
   "metadata": {
    "papermill": {
     "duration": 0.011614,
     "end_time": "2023-01-17T16:35:06.322187",
     "exception": false,
     "start_time": "2023-01-17T16:35:06.310573",
     "status": "completed"
    },
    "tags": []
   },
   "source": [
    "### **Hadi örnek üstünde yapalım!**"
   ]
  },
  {
   "cell_type": "code",
   "execution_count": 9,
   "id": "52784976",
   "metadata": {
    "execution": {
     "iopub.execute_input": "2023-01-17T16:35:06.347811Z",
     "iopub.status.busy": "2023-01-17T16:35:06.347360Z",
     "iopub.status.idle": "2023-01-17T16:35:06.363935Z",
     "shell.execute_reply": "2023-01-17T16:35:06.362935Z"
    },
    "papermill": {
     "duration": 0.032659,
     "end_time": "2023-01-17T16:35:06.366870",
     "exception": false,
     "start_time": "2023-01-17T16:35:06.334211",
     "status": "completed"
    },
    "tags": []
   },
   "outputs": [
    {
     "name": "stdout",
     "output_type": "stream",
     "text": [
      "<class 'pandas.core.frame.DataFrame'>\n",
      "RangeIndex: 891 entries, 0 to 890\n",
      "Data columns (total 12 columns):\n",
      " #   Column       Non-Null Count  Dtype  \n",
      "---  ------       --------------  -----  \n",
      " 0   PassengerId  891 non-null    int64  \n",
      " 1   Survived     891 non-null    int64  \n",
      " 2   Pclass       891 non-null    int64  \n",
      " 3   Name         891 non-null    object \n",
      " 4   Sex          891 non-null    object \n",
      " 5   Age          714 non-null    float64\n",
      " 6   SibSp        891 non-null    int64  \n",
      " 7   Parch        891 non-null    int64  \n",
      " 8   Ticket       891 non-null    object \n",
      " 9   Fare         891 non-null    float64\n",
      " 10  Cabin        204 non-null    object \n",
      " 11  Embarked     889 non-null    object \n",
      "dtypes: float64(2), int64(5), object(5)\n",
      "memory usage: 83.7+ KB\n"
     ]
    }
   ],
   "source": [
    "df.info()"
   ]
  },
  {
   "cell_type": "markdown",
   "id": "c62b56e2",
   "metadata": {
    "papermill": {
     "duration": 0.011966,
     "end_time": "2023-01-17T16:35:06.391155",
     "exception": false,
     "start_time": "2023-01-17T16:35:06.379189",
     "status": "completed"
    },
    "tags": []
   },
   "source": [
    "> # isnull().sum()"
   ]
  },
  {
   "cell_type": "markdown",
   "id": "23846d51",
   "metadata": {
    "papermill": {
     "duration": 0.011908,
     "end_time": "2023-01-17T16:35:06.415327",
     "exception": false,
     "start_time": "2023-01-17T16:35:06.403419",
     "status": "completed"
    },
    "tags": []
   },
   "source": [
    "**isnull().sum()**  burda iki tane gonksiyon var: **isnull()** ve **sum()**.\n",
    "- **isnull()** fonksiyonu her satır için True veya False dödürür, eğer eksik veriyse True, değilse False.\n",
    "- **sum()** fonksiyonu satırlardaki True değerlerini toplar bu sayede her sütunda kaç eksik veri var bunu görmüş oluruz."
   ]
  },
  {
   "cell_type": "markdown",
   "id": "6005c9ad",
   "metadata": {
    "papermill": {
     "duration": 0.011932,
     "end_time": "2023-01-17T16:35:06.439341",
     "exception": false,
     "start_time": "2023-01-17T16:35:06.427409",
     "status": "completed"
    },
    "tags": []
   },
   "source": [
    "### **Hadi örnek üstünde yapalım!**"
   ]
  },
  {
   "cell_type": "code",
   "execution_count": 10,
   "id": "3b04dc53",
   "metadata": {
    "execution": {
     "iopub.execute_input": "2023-01-17T16:35:06.466135Z",
     "iopub.status.busy": "2023-01-17T16:35:06.464930Z",
     "iopub.status.idle": "2023-01-17T16:35:06.474577Z",
     "shell.execute_reply": "2023-01-17T16:35:06.473438Z"
    },
    "papermill": {
     "duration": 0.025238,
     "end_time": "2023-01-17T16:35:06.476809",
     "exception": false,
     "start_time": "2023-01-17T16:35:06.451571",
     "status": "completed"
    },
    "tags": []
   },
   "outputs": [
    {
     "data": {
      "text/plain": [
       "PassengerId      0\n",
       "Survived         0\n",
       "Pclass           0\n",
       "Name             0\n",
       "Sex              0\n",
       "Age            177\n",
       "SibSp            0\n",
       "Parch            0\n",
       "Ticket           0\n",
       "Fare             0\n",
       "Cabin          687\n",
       "Embarked         2\n",
       "dtype: int64"
      ]
     },
     "execution_count": 10,
     "metadata": {},
     "output_type": "execute_result"
    }
   ],
   "source": [
    "df.isnull().sum()"
   ]
  },
  {
   "cell_type": "markdown",
   "id": "74788e72",
   "metadata": {
    "papermill": {
     "duration": 0.011896,
     "end_time": "2023-01-17T16:35:06.501207",
     "exception": false,
     "start_time": "2023-01-17T16:35:06.489311",
     "status": "completed"
    },
    "tags": []
   },
   "source": [
    "> # .shape"
   ]
  },
  {
   "cell_type": "markdown",
   "id": "2cedad48",
   "metadata": {
    "papermill": {
     "duration": 0.011848,
     "end_time": "2023-01-17T16:35:06.525259",
     "exception": false,
     "start_time": "2023-01-17T16:35:06.513411",
     "status": "completed"
    },
    "tags": []
   },
   "source": [
    "**shape** fonksiyonu veride kaç satır ve kaç sütun olduğunu gösterir."
   ]
  },
  {
   "cell_type": "markdown",
   "id": "d8f9c6ff",
   "metadata": {
    "papermill": {
     "duration": 0.012228,
     "end_time": "2023-01-17T16:35:06.549711",
     "exception": false,
     "start_time": "2023-01-17T16:35:06.537483",
     "status": "completed"
    },
    "tags": []
   },
   "source": [
    "### **Hadi örnek üstünde yapalım!**"
   ]
  },
  {
   "cell_type": "code",
   "execution_count": 11,
   "id": "681d0982",
   "metadata": {
    "execution": {
     "iopub.execute_input": "2023-01-17T16:35:06.576443Z",
     "iopub.status.busy": "2023-01-17T16:35:06.575847Z",
     "iopub.status.idle": "2023-01-17T16:35:06.582092Z",
     "shell.execute_reply": "2023-01-17T16:35:06.581321Z"
    },
    "papermill": {
     "duration": 0.022619,
     "end_time": "2023-01-17T16:35:06.584315",
     "exception": false,
     "start_time": "2023-01-17T16:35:06.561696",
     "status": "completed"
    },
    "tags": []
   },
   "outputs": [
    {
     "data": {
      "text/plain": [
       "(891, 12)"
      ]
     },
     "execution_count": 11,
     "metadata": {},
     "output_type": "execute_result"
    }
   ],
   "source": [
    "df.shape"
   ]
  },
  {
   "cell_type": "markdown",
   "id": "bc46f0dd",
   "metadata": {
    "papermill": {
     "duration": 0.01208,
     "end_time": "2023-01-17T16:35:06.608672",
     "exception": false,
     "start_time": "2023-01-17T16:35:06.596592",
     "status": "completed"
    },
    "tags": []
   },
   "source": [
    "Verimizde 891 satır 12 sütun var."
   ]
  },
  {
   "cell_type": "markdown",
   "id": "7b298ec4",
   "metadata": {
    "papermill": {
     "duration": 0.01209,
     "end_time": "2023-01-17T16:35:06.632997",
     "exception": false,
     "start_time": "2023-01-17T16:35:06.620907",
     "status": "completed"
    },
    "tags": []
   },
   "source": [
    "---"
   ]
  },
  {
   "cell_type": "markdown",
   "id": "d5ba44fb",
   "metadata": {
    "papermill": {
     "duration": 0.011978,
     "end_time": "2023-01-17T16:35:06.657313",
     "exception": false,
     "start_time": "2023-01-17T16:35:06.645335",
     "status": "completed"
    },
    "tags": []
   },
   "source": [
    "![](https://miro.medium.com/max/1400/0*Tc3F4V9P2eBJBHlt)"
   ]
  },
  {
   "cell_type": "markdown",
   "id": "d658c345",
   "metadata": {
    "papermill": {
     "duration": 0.01206,
     "end_time": "2023-01-17T16:35:06.681618",
     "exception": false,
     "start_time": "2023-01-17T16:35:06.669558",
     "status": "completed"
    },
    "tags": []
   },
   "source": [
    "[Unsplash](https://unsplash.com/?utm_source=medium&utm_medium=referral)'de [david Griffiths](https://unsplash.com/@itscakefortea?utm_source=medium&utm_medium=referral) tarafından bir fotoğraf"
   ]
  },
  {
   "cell_type": "markdown",
   "id": "a606f2f4",
   "metadata": {
    "papermill": {
     "duration": 0.013352,
     "end_time": "2023-01-17T16:35:06.707608",
     "exception": false,
     "start_time": "2023-01-17T16:35:06.694256",
     "status": "completed"
    },
    "tags": []
   },
   "source": [
    "**EDA** sayesinde verilerden daha çok anlam çıkarabilceksiniz.\n",
    "\n",
    "\n",
    "**Peki verilerin hepsini değil sadece ihtiyacımız olanı, sadece belli kısımlarını almak istersek ne yapmalıyız?**\n",
    "\n",
    "\n",
    "Öğrenmek isterseniz :"
   ]
  },
  {
   "cell_type": "markdown",
   "id": "6f1e56b0",
   "metadata": {
    "papermill": {
     "duration": 0.012599,
     "end_time": "2023-01-17T16:35:06.733366",
     "exception": false,
     "start_time": "2023-01-17T16:35:06.720767",
     "status": "completed"
    },
    "tags": []
   },
   "source": [
    "# **Beklemede kalın!**\n",
    "***\"Veri filitreleme\"*** yazımız gelicek!"
   ]
  },
  {
   "cell_type": "markdown",
   "id": "6b85a334",
   "metadata": {
    "papermill": {
     "duration": 0.012426,
     "end_time": "2023-01-17T16:35:06.758156",
     "exception": false,
     "start_time": "2023-01-17T16:35:06.745730",
     "status": "completed"
    },
    "tags": []
   },
   "source": [
    "---\n",
    "\n",
    "# Ahmet Talha Bektaş\n",
    "> 📧 [E-mail Hesabım](mailto:atalhabektas@gmail.com)\n",
    "\n",
    "> 🔗 [LinkedIn Hesabım](https://www.linkedin.com/in/ahmet-talha-bekta%C5%9F-056844216)\n",
    "\n",
    "> 💻 [GitHub Hesabım](https://github.com/ahmettalhabektastr)\n",
    "\n",
    "> 👨‍💻 [Kaggle Hesabım](https://www.kaggle.com/ahmettalhabektastr)\n",
    "\n",
    "> 📋 [Medium Hesabım](https://medium.com/@ahmettalhabektas_tr)"
   ]
  }
 ],
 "metadata": {
  "kernelspec": {
   "display_name": "Python 3",
   "language": "python",
   "name": "python3"
  },
  "language_info": {
   "codemirror_mode": {
    "name": "ipython",
    "version": 3
   },
   "file_extension": ".py",
   "mimetype": "text/x-python",
   "name": "python",
   "nbconvert_exporter": "python",
   "pygments_lexer": "ipython3",
   "version": "3.7.12"
  },
  "papermill": {
   "default_parameters": {},
   "duration": 10.404413,
   "end_time": "2023-01-17T16:35:07.391594",
   "environment_variables": {},
   "exception": null,
   "input_path": "__notebook__.ipynb",
   "output_path": "__notebook__.ipynb",
   "parameters": {},
   "start_time": "2023-01-17T16:34:56.987181",
   "version": "2.3.4"
  }
 },
 "nbformat": 4,
 "nbformat_minor": 5
}
