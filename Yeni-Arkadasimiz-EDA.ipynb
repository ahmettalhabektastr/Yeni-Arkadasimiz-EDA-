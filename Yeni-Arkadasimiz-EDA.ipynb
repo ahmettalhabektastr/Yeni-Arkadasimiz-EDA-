{
 "cells": [
  {
   "cell_type": "markdown",
   "id": "505be1f7",
   "metadata": {
    "papermill": {
     "duration": 0.012127,
     "end_time": "2023-01-17T16:41:57.523000",
     "exception": false,
     "start_time": "2023-01-17T16:41:57.510873",
     "status": "completed"
    },
    "tags": []
   },
   "source": [
    "# Yeni Arkadaşımız \"EDA\""
   ]
  },
  {
   "cell_type": "markdown",
   "id": "b9c2a081",
   "metadata": {
    "_cell_guid": "b1076dfc-b9ad-4769-8c92-a6c4dae69d19",
    "_uuid": "8f2839f25d086af736a60e9eeb907d3b93b6e0e5",
    "papermill": {
     "duration": 0.011959,
     "end_time": "2023-01-17T16:41:57.546370",
     "exception": false,
     "start_time": "2023-01-17T16:41:57.534411",
     "status": "completed"
    },
    "tags": []
   },
   "source": [
    "![](https://miro.medium.com/max/640/1*cBOu28eaQKCTN-y6k5imrw.png)\n",
    "\n",
    "\n",
    "**Bu fotoğraf \"Midjourney\" tarafından üretildi.**"
   ]
  },
  {
   "cell_type": "markdown",
   "id": "26542f45",
   "metadata": {
    "papermill": {
     "duration": 0.01151,
     "end_time": "2023-01-17T16:41:57.568601",
     "exception": false,
     "start_time": "2023-01-17T16:41:57.557091",
     "status": "completed"
    },
    "tags": []
   },
   "source": [
    "Bu notebook, [***bu medium yazısının***](https://medium.com/@ahmettalhabektas_tr/yeni-arkada%C5%9F%C4%B1m%C4%B1z-eda-ff753db4b187) notebook halidir."
   ]
  },
  {
   "cell_type": "markdown",
   "id": "1f5f448b",
   "metadata": {
    "papermill": {
     "duration": 0.010613,
     "end_time": "2023-01-17T16:41:57.590652",
     "exception": false,
     "start_time": "2023-01-17T16:41:57.580039",
     "status": "completed"
    },
    "tags": []
   },
   "source": [
    "## İçindekiler:\n",
    "- Neden \"EDA\" bizim için önemli?\n",
    "- Hadi EDA dediğimiz şey ne onu öğrenelim!\n",
    "- .head()\n",
    "- .tail()\n",
    "- .sample()\n",
    "- .describe()\n",
    "- .corr()\n",
    "- .info()\n",
    "- .isnull().sum()\n",
    "- .shape\n",
    "\n",
    "\n",
    "---"
   ]
  },
  {
   "cell_type": "markdown",
   "id": "27dd9376",
   "metadata": {
    "papermill": {
     "duration": 0.009649,
     "end_time": "2023-01-17T16:41:57.610158",
     "exception": false,
     "start_time": "2023-01-17T16:41:57.600509",
     "status": "completed"
    },
    "tags": []
   },
   "source": [
    "Bu yazı ile ismi \"**EDA**\" olan yeni bir arkadaş edinceksiniz. Veri Bilimcilerin en yakın arkadaşlarından biridir **EDA**.\n",
    "\n",
    "\n",
    "Hadi sizleri **EDA** ile tanıştırıyım. **EDA**, Türkçemizde \"***Açınsayıcı Veri Çözümlemesi***\" veya \"***Keşifsel Veri Analizi***\" diye çevrilmiş olup İngilizce aslı \"***Exploratory Data Analysis***\" dir."
   ]
  },
  {
   "cell_type": "markdown",
   "id": "3bacc801",
   "metadata": {
    "papermill": {
     "duration": 0.009457,
     "end_time": "2023-01-17T16:41:57.629365",
     "exception": false,
     "start_time": "2023-01-17T16:41:57.619908",
     "status": "completed"
    },
    "tags": []
   },
   "source": [
    "![](https://miro.medium.com/max/1400/0*SMTyS7nGrMze2Qxz)"
   ]
  },
  {
   "cell_type": "markdown",
   "id": "56588fe3",
   "metadata": {
    "papermill": {
     "duration": 0.012948,
     "end_time": "2023-01-17T16:41:57.652370",
     "exception": false,
     "start_time": "2023-01-17T16:41:57.639422",
     "status": "completed"
    },
    "tags": []
   },
   "source": [
    "[Unsplash](https://unsplash.com/?utm_source=medium&utm_medium=referral)'de [Natalya Khartukova](https://unsplash.com/@nataxart?utm_source=medium&utm_medium=referral) tarafından bir fotoğraf"
   ]
  },
  {
   "cell_type": "markdown",
   "id": "8afb6f4f",
   "metadata": {
    "papermill": {
     "duration": 0.013167,
     "end_time": "2023-01-17T16:41:57.676380",
     "exception": false,
     "start_time": "2023-01-17T16:41:57.663213",
     "status": "completed"
    },
    "tags": []
   },
   "source": [
    "> # Neden \"EDA\" bizim için önemli?"
   ]
  },
  {
   "cell_type": "markdown",
   "id": "3c716d7c",
   "metadata": {
    "papermill": {
     "duration": 0.012978,
     "end_time": "2023-01-17T16:41:57.699768",
     "exception": false,
     "start_time": "2023-01-17T16:41:57.686790",
     "status": "completed"
    },
    "tags": []
   },
   "source": [
    "Verileri okuduktan sonra verilerden bir anlam çıkaramazsak bir şey yapamayız. Dolayısıyla verileri açıkça görmek, verileri daha iyi anlamak verileri temizlemek için **EDA**'ya çok ihtiyacımız var"
   ]
  },
  {
   "cell_type": "markdown",
   "id": "fcd41075",
   "metadata": {
    "papermill": {
     "duration": 0.012,
     "end_time": "2023-01-17T16:41:57.722974",
     "exception": false,
     "start_time": "2023-01-17T16:41:57.710974",
     "status": "completed"
    },
    "tags": []
   },
   "source": [
    "># Hadi EDA dediğimiz şey ne onu öğrenelim!"
   ]
  },
  {
   "cell_type": "markdown",
   "id": "d60d0b9c",
   "metadata": {
    "papermill": {
     "duration": 0.012453,
     "end_time": "2023-01-17T16:41:57.749351",
     "exception": false,
     "start_time": "2023-01-17T16:41:57.736898",
     "status": "completed"
    },
    "tags": []
   },
   "source": [
    "Bu yazı için **Titanic veri setini** kullanıcam."
   ]
  },
  {
   "cell_type": "markdown",
   "id": "186d6dd5",
   "metadata": {
    "papermill": {
     "duration": 0.010826,
     "end_time": "2023-01-17T16:41:57.771430",
     "exception": false,
     "start_time": "2023-01-17T16:41:57.760604",
     "status": "completed"
    },
    "tags": []
   },
   "source": [
    "![](https://miro.medium.com/max/828/0*9LrHADi8ECdGOwFJ)"
   ]
  },
  {
   "cell_type": "markdown",
   "id": "fb808eb7",
   "metadata": {
    "papermill": {
     "duration": 0.010475,
     "end_time": "2023-01-17T16:41:57.792987",
     "exception": false,
     "start_time": "2023-01-17T16:41:57.782512",
     "status": "completed"
    },
    "tags": []
   },
   "source": [
    "[Unsplash](https://unsplash.com/?utm_source=medium&utm_medium=referral)'de [Nicolas Hoizey](https://unsplash.com/@nhoizey?utm_source=medium&utm_medium=referral) tarafından bir fotoğraf"
   ]
  },
  {
   "cell_type": "markdown",
   "id": "9e0c340e",
   "metadata": {
    "papermill": {
     "duration": 0.011177,
     "end_time": "2023-01-17T16:41:57.814849",
     "exception": false,
     "start_time": "2023-01-17T16:41:57.803672",
     "status": "completed"
    },
    "tags": []
   },
   "source": [
    "> # .head()"
   ]
  },
  {
   "cell_type": "markdown",
   "id": "4feaa339",
   "metadata": {
    "papermill": {
     "duration": 0.010995,
     "end_time": "2023-01-17T16:41:57.835808",
     "exception": false,
     "start_time": "2023-01-17T16:41:57.824813",
     "status": "completed"
    },
    "tags": []
   },
   "source": [
    "**head()** fonksiyonu verimizdeki ilk 5 satırı gösterir, fakat eğer içine bir sayı girerseniz o sayıya kadar olan satırları gösterir. Mesela **.head(15)** ilk 15 satırı gösterir."
   ]
  },
  {
   "cell_type": "markdown",
   "id": "83d5bb1b",
   "metadata": {
    "papermill": {
     "duration": 0.010791,
     "end_time": "2023-01-17T16:41:57.856600",
     "exception": false,
     "start_time": "2023-01-17T16:41:57.845809",
     "status": "completed"
    },
    "tags": []
   },
   "source": [
    "Eğer veri nasıl okunur bilmiyorsanız [bu yazıyı](https://medium.com/@ahmettalhabektas_tr/veri-d%C3%BCnyas%C4%B1na-i%CC%87lk-ad%C4%B1mlar-3044f0d42170) veya  [bu kodu](https://www.kaggle.com/code/ahmettalhabektastr/veri-d-nyas-na-lk-ad-mlar) okumalısınız."
   ]
  },
  {
   "cell_type": "markdown",
   "id": "798eea1e",
   "metadata": {
    "papermill": {
     "duration": 0.00979,
     "end_time": "2023-01-17T16:41:57.877297",
     "exception": false,
     "start_time": "2023-01-17T16:41:57.867507",
     "status": "completed"
    },
    "tags": []
   },
   "source": [
    "### **Hadi örnek üstünde yapalım!**"
   ]
  },
  {
   "cell_type": "code",
   "execution_count": 1,
   "id": "7a3b34e6",
   "metadata": {
    "execution": {
     "iopub.execute_input": "2023-01-17T16:41:57.902256Z",
     "iopub.status.busy": "2023-01-17T16:41:57.901526Z",
     "iopub.status.idle": "2023-01-17T16:41:57.969504Z",
     "shell.execute_reply": "2023-01-17T16:41:57.967992Z"
    },
    "papermill": {
     "duration": 0.084967,
     "end_time": "2023-01-17T16:41:57.972864",
     "exception": false,
     "start_time": "2023-01-17T16:41:57.887897",
     "status": "completed"
    },
    "tags": []
   },
   "outputs": [
    {
     "data": {
      "text/html": [
       "<div>\n",
       "<style scoped>\n",
       "    .dataframe tbody tr th:only-of-type {\n",
       "        vertical-align: middle;\n",
       "    }\n",
       "\n",
       "    .dataframe tbody tr th {\n",
       "        vertical-align: top;\n",
       "    }\n",
       "\n",
       "    .dataframe thead th {\n",
       "        text-align: right;\n",
       "    }\n",
       "</style>\n",
       "<table border=\"1\" class=\"dataframe\">\n",
       "  <thead>\n",
       "    <tr style=\"text-align: right;\">\n",
       "      <th></th>\n",
       "      <th>PassengerId</th>\n",
       "      <th>Survived</th>\n",
       "      <th>Pclass</th>\n",
       "      <th>Name</th>\n",
       "      <th>Sex</th>\n",
       "      <th>Age</th>\n",
       "      <th>SibSp</th>\n",
       "      <th>Parch</th>\n",
       "      <th>Ticket</th>\n",
       "      <th>Fare</th>\n",
       "      <th>Cabin</th>\n",
       "      <th>Embarked</th>\n",
       "    </tr>\n",
       "  </thead>\n",
       "  <tbody>\n",
       "    <tr>\n",
       "      <th>0</th>\n",
       "      <td>1</td>\n",
       "      <td>0</td>\n",
       "      <td>3</td>\n",
       "      <td>Braund, Mr. Owen Harris</td>\n",
       "      <td>male</td>\n",
       "      <td>22.0</td>\n",
       "      <td>1</td>\n",
       "      <td>0</td>\n",
       "      <td>A/5 21171</td>\n",
       "      <td>7.2500</td>\n",
       "      <td>NaN</td>\n",
       "      <td>S</td>\n",
       "    </tr>\n",
       "    <tr>\n",
       "      <th>1</th>\n",
       "      <td>2</td>\n",
       "      <td>1</td>\n",
       "      <td>1</td>\n",
       "      <td>Cumings, Mrs. John Bradley (Florence Briggs Th...</td>\n",
       "      <td>female</td>\n",
       "      <td>38.0</td>\n",
       "      <td>1</td>\n",
       "      <td>0</td>\n",
       "      <td>PC 17599</td>\n",
       "      <td>71.2833</td>\n",
       "      <td>C85</td>\n",
       "      <td>C</td>\n",
       "    </tr>\n",
       "    <tr>\n",
       "      <th>2</th>\n",
       "      <td>3</td>\n",
       "      <td>1</td>\n",
       "      <td>3</td>\n",
       "      <td>Heikkinen, Miss. Laina</td>\n",
       "      <td>female</td>\n",
       "      <td>26.0</td>\n",
       "      <td>0</td>\n",
       "      <td>0</td>\n",
       "      <td>STON/O2. 3101282</td>\n",
       "      <td>7.9250</td>\n",
       "      <td>NaN</td>\n",
       "      <td>S</td>\n",
       "    </tr>\n",
       "    <tr>\n",
       "      <th>3</th>\n",
       "      <td>4</td>\n",
       "      <td>1</td>\n",
       "      <td>1</td>\n",
       "      <td>Futrelle, Mrs. Jacques Heath (Lily May Peel)</td>\n",
       "      <td>female</td>\n",
       "      <td>35.0</td>\n",
       "      <td>1</td>\n",
       "      <td>0</td>\n",
       "      <td>113803</td>\n",
       "      <td>53.1000</td>\n",
       "      <td>C123</td>\n",
       "      <td>S</td>\n",
       "    </tr>\n",
       "    <tr>\n",
       "      <th>4</th>\n",
       "      <td>5</td>\n",
       "      <td>0</td>\n",
       "      <td>3</td>\n",
       "      <td>Allen, Mr. William Henry</td>\n",
       "      <td>male</td>\n",
       "      <td>35.0</td>\n",
       "      <td>0</td>\n",
       "      <td>0</td>\n",
       "      <td>373450</td>\n",
       "      <td>8.0500</td>\n",
       "      <td>NaN</td>\n",
       "      <td>S</td>\n",
       "    </tr>\n",
       "  </tbody>\n",
       "</table>\n",
       "</div>"
      ],
      "text/plain": [
       "   PassengerId  Survived  Pclass  \\\n",
       "0            1         0       3   \n",
       "1            2         1       1   \n",
       "2            3         1       3   \n",
       "3            4         1       1   \n",
       "4            5         0       3   \n",
       "\n",
       "                                                Name     Sex   Age  SibSp  \\\n",
       "0                            Braund, Mr. Owen Harris    male  22.0      1   \n",
       "1  Cumings, Mrs. John Bradley (Florence Briggs Th...  female  38.0      1   \n",
       "2                             Heikkinen, Miss. Laina  female  26.0      0   \n",
       "3       Futrelle, Mrs. Jacques Heath (Lily May Peel)  female  35.0      1   \n",
       "4                           Allen, Mr. William Henry    male  35.0      0   \n",
       "\n",
       "   Parch            Ticket     Fare Cabin Embarked  \n",
       "0      0         A/5 21171   7.2500   NaN        S  \n",
       "1      0          PC 17599  71.2833   C85        C  \n",
       "2      0  STON/O2. 3101282   7.9250   NaN        S  \n",
       "3      0            113803  53.1000  C123        S  \n",
       "4      0            373450   8.0500   NaN        S  "
      ]
     },
     "execution_count": 1,
     "metadata": {},
     "output_type": "execute_result"
    }
   ],
   "source": [
    "import pandas as pd \n",
    "df=pd.read_csv(\"/kaggle/input/titanic/train.csv\")\n",
    "df.head()"
   ]
  },
  {
   "cell_type": "code",
   "execution_count": 2,
   "id": "c872399e",
   "metadata": {
    "execution": {
     "iopub.execute_input": "2023-01-17T16:41:58.003717Z",
     "iopub.status.busy": "2023-01-17T16:41:58.003290Z",
     "iopub.status.idle": "2023-01-17T16:41:58.030610Z",
     "shell.execute_reply": "2023-01-17T16:41:58.029144Z"
    },
    "papermill": {
     "duration": 0.044129,
     "end_time": "2023-01-17T16:41:58.033982",
     "exception": false,
     "start_time": "2023-01-17T16:41:57.989853",
     "status": "completed"
    },
    "tags": []
   },
   "outputs": [
    {
     "data": {
      "text/html": [
       "<div>\n",
       "<style scoped>\n",
       "    .dataframe tbody tr th:only-of-type {\n",
       "        vertical-align: middle;\n",
       "    }\n",
       "\n",
       "    .dataframe tbody tr th {\n",
       "        vertical-align: top;\n",
       "    }\n",
       "\n",
       "    .dataframe thead th {\n",
       "        text-align: right;\n",
       "    }\n",
       "</style>\n",
       "<table border=\"1\" class=\"dataframe\">\n",
       "  <thead>\n",
       "    <tr style=\"text-align: right;\">\n",
       "      <th></th>\n",
       "      <th>PassengerId</th>\n",
       "      <th>Survived</th>\n",
       "      <th>Pclass</th>\n",
       "      <th>Name</th>\n",
       "      <th>Sex</th>\n",
       "      <th>Age</th>\n",
       "      <th>SibSp</th>\n",
       "      <th>Parch</th>\n",
       "      <th>Ticket</th>\n",
       "      <th>Fare</th>\n",
       "      <th>Cabin</th>\n",
       "      <th>Embarked</th>\n",
       "    </tr>\n",
       "  </thead>\n",
       "  <tbody>\n",
       "    <tr>\n",
       "      <th>0</th>\n",
       "      <td>1</td>\n",
       "      <td>0</td>\n",
       "      <td>3</td>\n",
       "      <td>Braund, Mr. Owen Harris</td>\n",
       "      <td>male</td>\n",
       "      <td>22.0</td>\n",
       "      <td>1</td>\n",
       "      <td>0</td>\n",
       "      <td>A/5 21171</td>\n",
       "      <td>7.2500</td>\n",
       "      <td>NaN</td>\n",
       "      <td>S</td>\n",
       "    </tr>\n",
       "    <tr>\n",
       "      <th>1</th>\n",
       "      <td>2</td>\n",
       "      <td>1</td>\n",
       "      <td>1</td>\n",
       "      <td>Cumings, Mrs. John Bradley (Florence Briggs Th...</td>\n",
       "      <td>female</td>\n",
       "      <td>38.0</td>\n",
       "      <td>1</td>\n",
       "      <td>0</td>\n",
       "      <td>PC 17599</td>\n",
       "      <td>71.2833</td>\n",
       "      <td>C85</td>\n",
       "      <td>C</td>\n",
       "    </tr>\n",
       "    <tr>\n",
       "      <th>2</th>\n",
       "      <td>3</td>\n",
       "      <td>1</td>\n",
       "      <td>3</td>\n",
       "      <td>Heikkinen, Miss. Laina</td>\n",
       "      <td>female</td>\n",
       "      <td>26.0</td>\n",
       "      <td>0</td>\n",
       "      <td>0</td>\n",
       "      <td>STON/O2. 3101282</td>\n",
       "      <td>7.9250</td>\n",
       "      <td>NaN</td>\n",
       "      <td>S</td>\n",
       "    </tr>\n",
       "    <tr>\n",
       "      <th>3</th>\n",
       "      <td>4</td>\n",
       "      <td>1</td>\n",
       "      <td>1</td>\n",
       "      <td>Futrelle, Mrs. Jacques Heath (Lily May Peel)</td>\n",
       "      <td>female</td>\n",
       "      <td>35.0</td>\n",
       "      <td>1</td>\n",
       "      <td>0</td>\n",
       "      <td>113803</td>\n",
       "      <td>53.1000</td>\n",
       "      <td>C123</td>\n",
       "      <td>S</td>\n",
       "    </tr>\n",
       "    <tr>\n",
       "      <th>4</th>\n",
       "      <td>5</td>\n",
       "      <td>0</td>\n",
       "      <td>3</td>\n",
       "      <td>Allen, Mr. William Henry</td>\n",
       "      <td>male</td>\n",
       "      <td>35.0</td>\n",
       "      <td>0</td>\n",
       "      <td>0</td>\n",
       "      <td>373450</td>\n",
       "      <td>8.0500</td>\n",
       "      <td>NaN</td>\n",
       "      <td>S</td>\n",
       "    </tr>\n",
       "    <tr>\n",
       "      <th>5</th>\n",
       "      <td>6</td>\n",
       "      <td>0</td>\n",
       "      <td>3</td>\n",
       "      <td>Moran, Mr. James</td>\n",
       "      <td>male</td>\n",
       "      <td>NaN</td>\n",
       "      <td>0</td>\n",
       "      <td>0</td>\n",
       "      <td>330877</td>\n",
       "      <td>8.4583</td>\n",
       "      <td>NaN</td>\n",
       "      <td>Q</td>\n",
       "    </tr>\n",
       "    <tr>\n",
       "      <th>6</th>\n",
       "      <td>7</td>\n",
       "      <td>0</td>\n",
       "      <td>1</td>\n",
       "      <td>McCarthy, Mr. Timothy J</td>\n",
       "      <td>male</td>\n",
       "      <td>54.0</td>\n",
       "      <td>0</td>\n",
       "      <td>0</td>\n",
       "      <td>17463</td>\n",
       "      <td>51.8625</td>\n",
       "      <td>E46</td>\n",
       "      <td>S</td>\n",
       "    </tr>\n",
       "    <tr>\n",
       "      <th>7</th>\n",
       "      <td>8</td>\n",
       "      <td>0</td>\n",
       "      <td>3</td>\n",
       "      <td>Palsson, Master. Gosta Leonard</td>\n",
       "      <td>male</td>\n",
       "      <td>2.0</td>\n",
       "      <td>3</td>\n",
       "      <td>1</td>\n",
       "      <td>349909</td>\n",
       "      <td>21.0750</td>\n",
       "      <td>NaN</td>\n",
       "      <td>S</td>\n",
       "    </tr>\n",
       "    <tr>\n",
       "      <th>8</th>\n",
       "      <td>9</td>\n",
       "      <td>1</td>\n",
       "      <td>3</td>\n",
       "      <td>Johnson, Mrs. Oscar W (Elisabeth Vilhelmina Berg)</td>\n",
       "      <td>female</td>\n",
       "      <td>27.0</td>\n",
       "      <td>0</td>\n",
       "      <td>2</td>\n",
       "      <td>347742</td>\n",
       "      <td>11.1333</td>\n",
       "      <td>NaN</td>\n",
       "      <td>S</td>\n",
       "    </tr>\n",
       "    <tr>\n",
       "      <th>9</th>\n",
       "      <td>10</td>\n",
       "      <td>1</td>\n",
       "      <td>2</td>\n",
       "      <td>Nasser, Mrs. Nicholas (Adele Achem)</td>\n",
       "      <td>female</td>\n",
       "      <td>14.0</td>\n",
       "      <td>1</td>\n",
       "      <td>0</td>\n",
       "      <td>237736</td>\n",
       "      <td>30.0708</td>\n",
       "      <td>NaN</td>\n",
       "      <td>C</td>\n",
       "    </tr>\n",
       "    <tr>\n",
       "      <th>10</th>\n",
       "      <td>11</td>\n",
       "      <td>1</td>\n",
       "      <td>3</td>\n",
       "      <td>Sandstrom, Miss. Marguerite Rut</td>\n",
       "      <td>female</td>\n",
       "      <td>4.0</td>\n",
       "      <td>1</td>\n",
       "      <td>1</td>\n",
       "      <td>PP 9549</td>\n",
       "      <td>16.7000</td>\n",
       "      <td>G6</td>\n",
       "      <td>S</td>\n",
       "    </tr>\n",
       "    <tr>\n",
       "      <th>11</th>\n",
       "      <td>12</td>\n",
       "      <td>1</td>\n",
       "      <td>1</td>\n",
       "      <td>Bonnell, Miss. Elizabeth</td>\n",
       "      <td>female</td>\n",
       "      <td>58.0</td>\n",
       "      <td>0</td>\n",
       "      <td>0</td>\n",
       "      <td>113783</td>\n",
       "      <td>26.5500</td>\n",
       "      <td>C103</td>\n",
       "      <td>S</td>\n",
       "    </tr>\n",
       "    <tr>\n",
       "      <th>12</th>\n",
       "      <td>13</td>\n",
       "      <td>0</td>\n",
       "      <td>3</td>\n",
       "      <td>Saundercock, Mr. William Henry</td>\n",
       "      <td>male</td>\n",
       "      <td>20.0</td>\n",
       "      <td>0</td>\n",
       "      <td>0</td>\n",
       "      <td>A/5. 2151</td>\n",
       "      <td>8.0500</td>\n",
       "      <td>NaN</td>\n",
       "      <td>S</td>\n",
       "    </tr>\n",
       "    <tr>\n",
       "      <th>13</th>\n",
       "      <td>14</td>\n",
       "      <td>0</td>\n",
       "      <td>3</td>\n",
       "      <td>Andersson, Mr. Anders Johan</td>\n",
       "      <td>male</td>\n",
       "      <td>39.0</td>\n",
       "      <td>1</td>\n",
       "      <td>5</td>\n",
       "      <td>347082</td>\n",
       "      <td>31.2750</td>\n",
       "      <td>NaN</td>\n",
       "      <td>S</td>\n",
       "    </tr>\n",
       "    <tr>\n",
       "      <th>14</th>\n",
       "      <td>15</td>\n",
       "      <td>0</td>\n",
       "      <td>3</td>\n",
       "      <td>Vestrom, Miss. Hulda Amanda Adolfina</td>\n",
       "      <td>female</td>\n",
       "      <td>14.0</td>\n",
       "      <td>0</td>\n",
       "      <td>0</td>\n",
       "      <td>350406</td>\n",
       "      <td>7.8542</td>\n",
       "      <td>NaN</td>\n",
       "      <td>S</td>\n",
       "    </tr>\n",
       "  </tbody>\n",
       "</table>\n",
       "</div>"
      ],
      "text/plain": [
       "    PassengerId  Survived  Pclass  \\\n",
       "0             1         0       3   \n",
       "1             2         1       1   \n",
       "2             3         1       3   \n",
       "3             4         1       1   \n",
       "4             5         0       3   \n",
       "5             6         0       3   \n",
       "6             7         0       1   \n",
       "7             8         0       3   \n",
       "8             9         1       3   \n",
       "9            10         1       2   \n",
       "10           11         1       3   \n",
       "11           12         1       1   \n",
       "12           13         0       3   \n",
       "13           14         0       3   \n",
       "14           15         0       3   \n",
       "\n",
       "                                                 Name     Sex   Age  SibSp  \\\n",
       "0                             Braund, Mr. Owen Harris    male  22.0      1   \n",
       "1   Cumings, Mrs. John Bradley (Florence Briggs Th...  female  38.0      1   \n",
       "2                              Heikkinen, Miss. Laina  female  26.0      0   \n",
       "3        Futrelle, Mrs. Jacques Heath (Lily May Peel)  female  35.0      1   \n",
       "4                            Allen, Mr. William Henry    male  35.0      0   \n",
       "5                                    Moran, Mr. James    male   NaN      0   \n",
       "6                             McCarthy, Mr. Timothy J    male  54.0      0   \n",
       "7                      Palsson, Master. Gosta Leonard    male   2.0      3   \n",
       "8   Johnson, Mrs. Oscar W (Elisabeth Vilhelmina Berg)  female  27.0      0   \n",
       "9                 Nasser, Mrs. Nicholas (Adele Achem)  female  14.0      1   \n",
       "10                    Sandstrom, Miss. Marguerite Rut  female   4.0      1   \n",
       "11                           Bonnell, Miss. Elizabeth  female  58.0      0   \n",
       "12                     Saundercock, Mr. William Henry    male  20.0      0   \n",
       "13                        Andersson, Mr. Anders Johan    male  39.0      1   \n",
       "14               Vestrom, Miss. Hulda Amanda Adolfina  female  14.0      0   \n",
       "\n",
       "    Parch            Ticket     Fare Cabin Embarked  \n",
       "0       0         A/5 21171   7.2500   NaN        S  \n",
       "1       0          PC 17599  71.2833   C85        C  \n",
       "2       0  STON/O2. 3101282   7.9250   NaN        S  \n",
       "3       0            113803  53.1000  C123        S  \n",
       "4       0            373450   8.0500   NaN        S  \n",
       "5       0            330877   8.4583   NaN        Q  \n",
       "6       0             17463  51.8625   E46        S  \n",
       "7       1            349909  21.0750   NaN        S  \n",
       "8       2            347742  11.1333   NaN        S  \n",
       "9       0            237736  30.0708   NaN        C  \n",
       "10      1           PP 9549  16.7000    G6        S  \n",
       "11      0            113783  26.5500  C103        S  \n",
       "12      0         A/5. 2151   8.0500   NaN        S  \n",
       "13      5            347082  31.2750   NaN        S  \n",
       "14      0            350406   7.8542   NaN        S  "
      ]
     },
     "execution_count": 2,
     "metadata": {},
     "output_type": "execute_result"
    }
   ],
   "source": [
    "df.head(15)"
   ]
  },
  {
   "cell_type": "markdown",
   "id": "c18336c9",
   "metadata": {
    "papermill": {
     "duration": 0.012399,
     "end_time": "2023-01-17T16:41:58.059261",
     "exception": false,
     "start_time": "2023-01-17T16:41:58.046862",
     "status": "completed"
    },
    "tags": []
   },
   "source": [
    "> # .tail()"
   ]
  },
  {
   "cell_type": "markdown",
   "id": "4135c9cb",
   "metadata": {
    "papermill": {
     "duration": 0.012874,
     "end_time": "2023-01-17T16:41:58.084473",
     "exception": false,
     "start_time": "2023-01-17T16:41:58.071599",
     "status": "completed"
    },
    "tags": []
   },
   "source": [
    "**tail()** fonksiyonu **head()** fonksiyonuna çok benzer, fakat tersten satırları gösterir. Yani içine sayı girilmezse son 5 satır girlirse sondan o satıra kadar gösterir."
   ]
  },
  {
   "cell_type": "markdown",
   "id": "e5bb86a6",
   "metadata": {
    "papermill": {
     "duration": 0.011923,
     "end_time": "2023-01-17T16:41:58.108694",
     "exception": false,
     "start_time": "2023-01-17T16:41:58.096771",
     "status": "completed"
    },
    "tags": []
   },
   "source": [
    "### **Hadi örnek üstünde yapalım!**"
   ]
  },
  {
   "cell_type": "code",
   "execution_count": 3,
   "id": "97ba6032",
   "metadata": {
    "execution": {
     "iopub.execute_input": "2023-01-17T16:41:58.135523Z",
     "iopub.status.busy": "2023-01-17T16:41:58.134511Z",
     "iopub.status.idle": "2023-01-17T16:41:58.157126Z",
     "shell.execute_reply": "2023-01-17T16:41:58.156020Z"
    },
    "papermill": {
     "duration": 0.039106,
     "end_time": "2023-01-17T16:41:58.160692",
     "exception": false,
     "start_time": "2023-01-17T16:41:58.121586",
     "status": "completed"
    },
    "tags": []
   },
   "outputs": [
    {
     "data": {
      "text/html": [
       "<div>\n",
       "<style scoped>\n",
       "    .dataframe tbody tr th:only-of-type {\n",
       "        vertical-align: middle;\n",
       "    }\n",
       "\n",
       "    .dataframe tbody tr th {\n",
       "        vertical-align: top;\n",
       "    }\n",
       "\n",
       "    .dataframe thead th {\n",
       "        text-align: right;\n",
       "    }\n",
       "</style>\n",
       "<table border=\"1\" class=\"dataframe\">\n",
       "  <thead>\n",
       "    <tr style=\"text-align: right;\">\n",
       "      <th></th>\n",
       "      <th>PassengerId</th>\n",
       "      <th>Survived</th>\n",
       "      <th>Pclass</th>\n",
       "      <th>Name</th>\n",
       "      <th>Sex</th>\n",
       "      <th>Age</th>\n",
       "      <th>SibSp</th>\n",
       "      <th>Parch</th>\n",
       "      <th>Ticket</th>\n",
       "      <th>Fare</th>\n",
       "      <th>Cabin</th>\n",
       "      <th>Embarked</th>\n",
       "    </tr>\n",
       "  </thead>\n",
       "  <tbody>\n",
       "    <tr>\n",
       "      <th>886</th>\n",
       "      <td>887</td>\n",
       "      <td>0</td>\n",
       "      <td>2</td>\n",
       "      <td>Montvila, Rev. Juozas</td>\n",
       "      <td>male</td>\n",
       "      <td>27.0</td>\n",
       "      <td>0</td>\n",
       "      <td>0</td>\n",
       "      <td>211536</td>\n",
       "      <td>13.00</td>\n",
       "      <td>NaN</td>\n",
       "      <td>S</td>\n",
       "    </tr>\n",
       "    <tr>\n",
       "      <th>887</th>\n",
       "      <td>888</td>\n",
       "      <td>1</td>\n",
       "      <td>1</td>\n",
       "      <td>Graham, Miss. Margaret Edith</td>\n",
       "      <td>female</td>\n",
       "      <td>19.0</td>\n",
       "      <td>0</td>\n",
       "      <td>0</td>\n",
       "      <td>112053</td>\n",
       "      <td>30.00</td>\n",
       "      <td>B42</td>\n",
       "      <td>S</td>\n",
       "    </tr>\n",
       "    <tr>\n",
       "      <th>888</th>\n",
       "      <td>889</td>\n",
       "      <td>0</td>\n",
       "      <td>3</td>\n",
       "      <td>Johnston, Miss. Catherine Helen \"Carrie\"</td>\n",
       "      <td>female</td>\n",
       "      <td>NaN</td>\n",
       "      <td>1</td>\n",
       "      <td>2</td>\n",
       "      <td>W./C. 6607</td>\n",
       "      <td>23.45</td>\n",
       "      <td>NaN</td>\n",
       "      <td>S</td>\n",
       "    </tr>\n",
       "    <tr>\n",
       "      <th>889</th>\n",
       "      <td>890</td>\n",
       "      <td>1</td>\n",
       "      <td>1</td>\n",
       "      <td>Behr, Mr. Karl Howell</td>\n",
       "      <td>male</td>\n",
       "      <td>26.0</td>\n",
       "      <td>0</td>\n",
       "      <td>0</td>\n",
       "      <td>111369</td>\n",
       "      <td>30.00</td>\n",
       "      <td>C148</td>\n",
       "      <td>C</td>\n",
       "    </tr>\n",
       "    <tr>\n",
       "      <th>890</th>\n",
       "      <td>891</td>\n",
       "      <td>0</td>\n",
       "      <td>3</td>\n",
       "      <td>Dooley, Mr. Patrick</td>\n",
       "      <td>male</td>\n",
       "      <td>32.0</td>\n",
       "      <td>0</td>\n",
       "      <td>0</td>\n",
       "      <td>370376</td>\n",
       "      <td>7.75</td>\n",
       "      <td>NaN</td>\n",
       "      <td>Q</td>\n",
       "    </tr>\n",
       "  </tbody>\n",
       "</table>\n",
       "</div>"
      ],
      "text/plain": [
       "     PassengerId  Survived  Pclass                                      Name  \\\n",
       "886          887         0       2                     Montvila, Rev. Juozas   \n",
       "887          888         1       1              Graham, Miss. Margaret Edith   \n",
       "888          889         0       3  Johnston, Miss. Catherine Helen \"Carrie\"   \n",
       "889          890         1       1                     Behr, Mr. Karl Howell   \n",
       "890          891         0       3                       Dooley, Mr. Patrick   \n",
       "\n",
       "        Sex   Age  SibSp  Parch      Ticket   Fare Cabin Embarked  \n",
       "886    male  27.0      0      0      211536  13.00   NaN        S  \n",
       "887  female  19.0      0      0      112053  30.00   B42        S  \n",
       "888  female   NaN      1      2  W./C. 6607  23.45   NaN        S  \n",
       "889    male  26.0      0      0      111369  30.00  C148        C  \n",
       "890    male  32.0      0      0      370376   7.75   NaN        Q  "
      ]
     },
     "execution_count": 3,
     "metadata": {},
     "output_type": "execute_result"
    }
   ],
   "source": [
    "df.tail()"
   ]
  },
  {
   "cell_type": "code",
   "execution_count": 4,
   "id": "f8a8512f",
   "metadata": {
    "execution": {
     "iopub.execute_input": "2023-01-17T16:41:58.186683Z",
     "iopub.status.busy": "2023-01-17T16:41:58.185586Z",
     "iopub.status.idle": "2023-01-17T16:41:58.206428Z",
     "shell.execute_reply": "2023-01-17T16:41:58.204980Z"
    },
    "papermill": {
     "duration": 0.036679,
     "end_time": "2023-01-17T16:41:58.209569",
     "exception": false,
     "start_time": "2023-01-17T16:41:58.172890",
     "status": "completed"
    },
    "tags": []
   },
   "outputs": [
    {
     "data": {
      "text/html": [
       "<div>\n",
       "<style scoped>\n",
       "    .dataframe tbody tr th:only-of-type {\n",
       "        vertical-align: middle;\n",
       "    }\n",
       "\n",
       "    .dataframe tbody tr th {\n",
       "        vertical-align: top;\n",
       "    }\n",
       "\n",
       "    .dataframe thead th {\n",
       "        text-align: right;\n",
       "    }\n",
       "</style>\n",
       "<table border=\"1\" class=\"dataframe\">\n",
       "  <thead>\n",
       "    <tr style=\"text-align: right;\">\n",
       "      <th></th>\n",
       "      <th>PassengerId</th>\n",
       "      <th>Survived</th>\n",
       "      <th>Pclass</th>\n",
       "      <th>Name</th>\n",
       "      <th>Sex</th>\n",
       "      <th>Age</th>\n",
       "      <th>SibSp</th>\n",
       "      <th>Parch</th>\n",
       "      <th>Ticket</th>\n",
       "      <th>Fare</th>\n",
       "      <th>Cabin</th>\n",
       "      <th>Embarked</th>\n",
       "    </tr>\n",
       "  </thead>\n",
       "  <tbody>\n",
       "    <tr>\n",
       "      <th>881</th>\n",
       "      <td>882</td>\n",
       "      <td>0</td>\n",
       "      <td>3</td>\n",
       "      <td>Markun, Mr. Johann</td>\n",
       "      <td>male</td>\n",
       "      <td>33.0</td>\n",
       "      <td>0</td>\n",
       "      <td>0</td>\n",
       "      <td>349257</td>\n",
       "      <td>7.8958</td>\n",
       "      <td>NaN</td>\n",
       "      <td>S</td>\n",
       "    </tr>\n",
       "    <tr>\n",
       "      <th>882</th>\n",
       "      <td>883</td>\n",
       "      <td>0</td>\n",
       "      <td>3</td>\n",
       "      <td>Dahlberg, Miss. Gerda Ulrika</td>\n",
       "      <td>female</td>\n",
       "      <td>22.0</td>\n",
       "      <td>0</td>\n",
       "      <td>0</td>\n",
       "      <td>7552</td>\n",
       "      <td>10.5167</td>\n",
       "      <td>NaN</td>\n",
       "      <td>S</td>\n",
       "    </tr>\n",
       "    <tr>\n",
       "      <th>883</th>\n",
       "      <td>884</td>\n",
       "      <td>0</td>\n",
       "      <td>2</td>\n",
       "      <td>Banfield, Mr. Frederick James</td>\n",
       "      <td>male</td>\n",
       "      <td>28.0</td>\n",
       "      <td>0</td>\n",
       "      <td>0</td>\n",
       "      <td>C.A./SOTON 34068</td>\n",
       "      <td>10.5000</td>\n",
       "      <td>NaN</td>\n",
       "      <td>S</td>\n",
       "    </tr>\n",
       "    <tr>\n",
       "      <th>884</th>\n",
       "      <td>885</td>\n",
       "      <td>0</td>\n",
       "      <td>3</td>\n",
       "      <td>Sutehall, Mr. Henry Jr</td>\n",
       "      <td>male</td>\n",
       "      <td>25.0</td>\n",
       "      <td>0</td>\n",
       "      <td>0</td>\n",
       "      <td>SOTON/OQ 392076</td>\n",
       "      <td>7.0500</td>\n",
       "      <td>NaN</td>\n",
       "      <td>S</td>\n",
       "    </tr>\n",
       "    <tr>\n",
       "      <th>885</th>\n",
       "      <td>886</td>\n",
       "      <td>0</td>\n",
       "      <td>3</td>\n",
       "      <td>Rice, Mrs. William (Margaret Norton)</td>\n",
       "      <td>female</td>\n",
       "      <td>39.0</td>\n",
       "      <td>0</td>\n",
       "      <td>5</td>\n",
       "      <td>382652</td>\n",
       "      <td>29.1250</td>\n",
       "      <td>NaN</td>\n",
       "      <td>Q</td>\n",
       "    </tr>\n",
       "    <tr>\n",
       "      <th>886</th>\n",
       "      <td>887</td>\n",
       "      <td>0</td>\n",
       "      <td>2</td>\n",
       "      <td>Montvila, Rev. Juozas</td>\n",
       "      <td>male</td>\n",
       "      <td>27.0</td>\n",
       "      <td>0</td>\n",
       "      <td>0</td>\n",
       "      <td>211536</td>\n",
       "      <td>13.0000</td>\n",
       "      <td>NaN</td>\n",
       "      <td>S</td>\n",
       "    </tr>\n",
       "    <tr>\n",
       "      <th>887</th>\n",
       "      <td>888</td>\n",
       "      <td>1</td>\n",
       "      <td>1</td>\n",
       "      <td>Graham, Miss. Margaret Edith</td>\n",
       "      <td>female</td>\n",
       "      <td>19.0</td>\n",
       "      <td>0</td>\n",
       "      <td>0</td>\n",
       "      <td>112053</td>\n",
       "      <td>30.0000</td>\n",
       "      <td>B42</td>\n",
       "      <td>S</td>\n",
       "    </tr>\n",
       "    <tr>\n",
       "      <th>888</th>\n",
       "      <td>889</td>\n",
       "      <td>0</td>\n",
       "      <td>3</td>\n",
       "      <td>Johnston, Miss. Catherine Helen \"Carrie\"</td>\n",
       "      <td>female</td>\n",
       "      <td>NaN</td>\n",
       "      <td>1</td>\n",
       "      <td>2</td>\n",
       "      <td>W./C. 6607</td>\n",
       "      <td>23.4500</td>\n",
       "      <td>NaN</td>\n",
       "      <td>S</td>\n",
       "    </tr>\n",
       "    <tr>\n",
       "      <th>889</th>\n",
       "      <td>890</td>\n",
       "      <td>1</td>\n",
       "      <td>1</td>\n",
       "      <td>Behr, Mr. Karl Howell</td>\n",
       "      <td>male</td>\n",
       "      <td>26.0</td>\n",
       "      <td>0</td>\n",
       "      <td>0</td>\n",
       "      <td>111369</td>\n",
       "      <td>30.0000</td>\n",
       "      <td>C148</td>\n",
       "      <td>C</td>\n",
       "    </tr>\n",
       "    <tr>\n",
       "      <th>890</th>\n",
       "      <td>891</td>\n",
       "      <td>0</td>\n",
       "      <td>3</td>\n",
       "      <td>Dooley, Mr. Patrick</td>\n",
       "      <td>male</td>\n",
       "      <td>32.0</td>\n",
       "      <td>0</td>\n",
       "      <td>0</td>\n",
       "      <td>370376</td>\n",
       "      <td>7.7500</td>\n",
       "      <td>NaN</td>\n",
       "      <td>Q</td>\n",
       "    </tr>\n",
       "  </tbody>\n",
       "</table>\n",
       "</div>"
      ],
      "text/plain": [
       "     PassengerId  Survived  Pclass                                      Name  \\\n",
       "881          882         0       3                        Markun, Mr. Johann   \n",
       "882          883         0       3              Dahlberg, Miss. Gerda Ulrika   \n",
       "883          884         0       2             Banfield, Mr. Frederick James   \n",
       "884          885         0       3                    Sutehall, Mr. Henry Jr   \n",
       "885          886         0       3      Rice, Mrs. William (Margaret Norton)   \n",
       "886          887         0       2                     Montvila, Rev. Juozas   \n",
       "887          888         1       1              Graham, Miss. Margaret Edith   \n",
       "888          889         0       3  Johnston, Miss. Catherine Helen \"Carrie\"   \n",
       "889          890         1       1                     Behr, Mr. Karl Howell   \n",
       "890          891         0       3                       Dooley, Mr. Patrick   \n",
       "\n",
       "        Sex   Age  SibSp  Parch            Ticket     Fare Cabin Embarked  \n",
       "881    male  33.0      0      0            349257   7.8958   NaN        S  \n",
       "882  female  22.0      0      0              7552  10.5167   NaN        S  \n",
       "883    male  28.0      0      0  C.A./SOTON 34068  10.5000   NaN        S  \n",
       "884    male  25.0      0      0   SOTON/OQ 392076   7.0500   NaN        S  \n",
       "885  female  39.0      0      5            382652  29.1250   NaN        Q  \n",
       "886    male  27.0      0      0            211536  13.0000   NaN        S  \n",
       "887  female  19.0      0      0            112053  30.0000   B42        S  \n",
       "888  female   NaN      1      2        W./C. 6607  23.4500   NaN        S  \n",
       "889    male  26.0      0      0            111369  30.0000  C148        C  \n",
       "890    male  32.0      0      0            370376   7.7500   NaN        Q  "
      ]
     },
     "execution_count": 4,
     "metadata": {},
     "output_type": "execute_result"
    }
   ],
   "source": [
    "df.tail(10)"
   ]
  },
  {
   "cell_type": "markdown",
   "id": "d42a7a4f",
   "metadata": {
    "papermill": {
     "duration": 0.012681,
     "end_time": "2023-01-17T16:41:58.234677",
     "exception": false,
     "start_time": "2023-01-17T16:41:58.221996",
     "status": "completed"
    },
    "tags": []
   },
   "source": [
    "> # .sample()"
   ]
  },
  {
   "cell_type": "markdown",
   "id": "8822fa8f",
   "metadata": {
    "papermill": {
     "duration": 0.012065,
     "end_time": "2023-01-17T16:41:58.258779",
     "exception": false,
     "start_time": "2023-01-17T16:41:58.246714",
     "status": "completed"
    },
    "tags": []
   },
   "source": [
    "**sample()** fonksiyonu rastgele bir satır getirir.Fakat içine bir sayı yazarsanız o sayı kadar rastgele satır getirir."
   ]
  },
  {
   "cell_type": "markdown",
   "id": "cb18e19f",
   "metadata": {
    "papermill": {
     "duration": 0.011122,
     "end_time": "2023-01-17T16:41:58.283931",
     "exception": false,
     "start_time": "2023-01-17T16:41:58.272809",
     "status": "completed"
    },
    "tags": []
   },
   "source": [
    "### **Hadi örnek üstünde yapalım!**"
   ]
  },
  {
   "cell_type": "code",
   "execution_count": 5,
   "id": "6a117eff",
   "metadata": {
    "execution": {
     "iopub.execute_input": "2023-01-17T16:41:58.309671Z",
     "iopub.status.busy": "2023-01-17T16:41:58.308960Z",
     "iopub.status.idle": "2023-01-17T16:41:58.327320Z",
     "shell.execute_reply": "2023-01-17T16:41:58.326426Z"
    },
    "papermill": {
     "duration": 0.034456,
     "end_time": "2023-01-17T16:41:58.329763",
     "exception": false,
     "start_time": "2023-01-17T16:41:58.295307",
     "status": "completed"
    },
    "tags": []
   },
   "outputs": [
    {
     "data": {
      "text/html": [
       "<div>\n",
       "<style scoped>\n",
       "    .dataframe tbody tr th:only-of-type {\n",
       "        vertical-align: middle;\n",
       "    }\n",
       "\n",
       "    .dataframe tbody tr th {\n",
       "        vertical-align: top;\n",
       "    }\n",
       "\n",
       "    .dataframe thead th {\n",
       "        text-align: right;\n",
       "    }\n",
       "</style>\n",
       "<table border=\"1\" class=\"dataframe\">\n",
       "  <thead>\n",
       "    <tr style=\"text-align: right;\">\n",
       "      <th></th>\n",
       "      <th>PassengerId</th>\n",
       "      <th>Survived</th>\n",
       "      <th>Pclass</th>\n",
       "      <th>Name</th>\n",
       "      <th>Sex</th>\n",
       "      <th>Age</th>\n",
       "      <th>SibSp</th>\n",
       "      <th>Parch</th>\n",
       "      <th>Ticket</th>\n",
       "      <th>Fare</th>\n",
       "      <th>Cabin</th>\n",
       "      <th>Embarked</th>\n",
       "    </tr>\n",
       "  </thead>\n",
       "  <tbody>\n",
       "    <tr>\n",
       "      <th>673</th>\n",
       "      <td>674</td>\n",
       "      <td>1</td>\n",
       "      <td>2</td>\n",
       "      <td>Wilhelms, Mr. Charles</td>\n",
       "      <td>male</td>\n",
       "      <td>31.0</td>\n",
       "      <td>0</td>\n",
       "      <td>0</td>\n",
       "      <td>244270</td>\n",
       "      <td>13.0</td>\n",
       "      <td>NaN</td>\n",
       "      <td>S</td>\n",
       "    </tr>\n",
       "  </tbody>\n",
       "</table>\n",
       "</div>"
      ],
      "text/plain": [
       "     PassengerId  Survived  Pclass                   Name   Sex   Age  SibSp  \\\n",
       "673          674         1       2  Wilhelms, Mr. Charles  male  31.0      0   \n",
       "\n",
       "     Parch  Ticket  Fare Cabin Embarked  \n",
       "673      0  244270  13.0   NaN        S  "
      ]
     },
     "execution_count": 5,
     "metadata": {},
     "output_type": "execute_result"
    }
   ],
   "source": [
    "df.sample()"
   ]
  },
  {
   "cell_type": "code",
   "execution_count": 6,
   "id": "70cb90a4",
   "metadata": {
    "execution": {
     "iopub.execute_input": "2023-01-17T16:41:58.355589Z",
     "iopub.status.busy": "2023-01-17T16:41:58.355152Z",
     "iopub.status.idle": "2023-01-17T16:41:58.379034Z",
     "shell.execute_reply": "2023-01-17T16:41:58.377820Z"
    },
    "papermill": {
     "duration": 0.039644,
     "end_time": "2023-01-17T16:41:58.381574",
     "exception": false,
     "start_time": "2023-01-17T16:41:58.341930",
     "status": "completed"
    },
    "tags": []
   },
   "outputs": [
    {
     "data": {
      "text/html": [
       "<div>\n",
       "<style scoped>\n",
       "    .dataframe tbody tr th:only-of-type {\n",
       "        vertical-align: middle;\n",
       "    }\n",
       "\n",
       "    .dataframe tbody tr th {\n",
       "        vertical-align: top;\n",
       "    }\n",
       "\n",
       "    .dataframe thead th {\n",
       "        text-align: right;\n",
       "    }\n",
       "</style>\n",
       "<table border=\"1\" class=\"dataframe\">\n",
       "  <thead>\n",
       "    <tr style=\"text-align: right;\">\n",
       "      <th></th>\n",
       "      <th>PassengerId</th>\n",
       "      <th>Survived</th>\n",
       "      <th>Pclass</th>\n",
       "      <th>Name</th>\n",
       "      <th>Sex</th>\n",
       "      <th>Age</th>\n",
       "      <th>SibSp</th>\n",
       "      <th>Parch</th>\n",
       "      <th>Ticket</th>\n",
       "      <th>Fare</th>\n",
       "      <th>Cabin</th>\n",
       "      <th>Embarked</th>\n",
       "    </tr>\n",
       "  </thead>\n",
       "  <tbody>\n",
       "    <tr>\n",
       "      <th>449</th>\n",
       "      <td>450</td>\n",
       "      <td>1</td>\n",
       "      <td>1</td>\n",
       "      <td>Peuchen, Major. Arthur Godfrey</td>\n",
       "      <td>male</td>\n",
       "      <td>52.0</td>\n",
       "      <td>0</td>\n",
       "      <td>0</td>\n",
       "      <td>113786</td>\n",
       "      <td>30.5000</td>\n",
       "      <td>C104</td>\n",
       "      <td>S</td>\n",
       "    </tr>\n",
       "    <tr>\n",
       "      <th>630</th>\n",
       "      <td>631</td>\n",
       "      <td>1</td>\n",
       "      <td>1</td>\n",
       "      <td>Barkworth, Mr. Algernon Henry Wilson</td>\n",
       "      <td>male</td>\n",
       "      <td>80.0</td>\n",
       "      <td>0</td>\n",
       "      <td>0</td>\n",
       "      <td>27042</td>\n",
       "      <td>30.0000</td>\n",
       "      <td>A23</td>\n",
       "      <td>S</td>\n",
       "    </tr>\n",
       "    <tr>\n",
       "      <th>695</th>\n",
       "      <td>696</td>\n",
       "      <td>0</td>\n",
       "      <td>2</td>\n",
       "      <td>Chapman, Mr. Charles Henry</td>\n",
       "      <td>male</td>\n",
       "      <td>52.0</td>\n",
       "      <td>0</td>\n",
       "      <td>0</td>\n",
       "      <td>248731</td>\n",
       "      <td>13.5000</td>\n",
       "      <td>NaN</td>\n",
       "      <td>S</td>\n",
       "    </tr>\n",
       "    <tr>\n",
       "      <th>66</th>\n",
       "      <td>67</td>\n",
       "      <td>1</td>\n",
       "      <td>2</td>\n",
       "      <td>Nye, Mrs. (Elizabeth Ramell)</td>\n",
       "      <td>female</td>\n",
       "      <td>29.0</td>\n",
       "      <td>0</td>\n",
       "      <td>0</td>\n",
       "      <td>C.A. 29395</td>\n",
       "      <td>10.5000</td>\n",
       "      <td>F33</td>\n",
       "      <td>S</td>\n",
       "    </tr>\n",
       "    <tr>\n",
       "      <th>663</th>\n",
       "      <td>664</td>\n",
       "      <td>0</td>\n",
       "      <td>3</td>\n",
       "      <td>Coleff, Mr. Peju</td>\n",
       "      <td>male</td>\n",
       "      <td>36.0</td>\n",
       "      <td>0</td>\n",
       "      <td>0</td>\n",
       "      <td>349210</td>\n",
       "      <td>7.4958</td>\n",
       "      <td>NaN</td>\n",
       "      <td>S</td>\n",
       "    </tr>\n",
       "    <tr>\n",
       "      <th>726</th>\n",
       "      <td>727</td>\n",
       "      <td>1</td>\n",
       "      <td>2</td>\n",
       "      <td>Renouf, Mrs. Peter Henry (Lillian Jefferys)</td>\n",
       "      <td>female</td>\n",
       "      <td>30.0</td>\n",
       "      <td>3</td>\n",
       "      <td>0</td>\n",
       "      <td>31027</td>\n",
       "      <td>21.0000</td>\n",
       "      <td>NaN</td>\n",
       "      <td>S</td>\n",
       "    </tr>\n",
       "    <tr>\n",
       "      <th>838</th>\n",
       "      <td>839</td>\n",
       "      <td>1</td>\n",
       "      <td>3</td>\n",
       "      <td>Chip, Mr. Chang</td>\n",
       "      <td>male</td>\n",
       "      <td>32.0</td>\n",
       "      <td>0</td>\n",
       "      <td>0</td>\n",
       "      <td>1601</td>\n",
       "      <td>56.4958</td>\n",
       "      <td>NaN</td>\n",
       "      <td>S</td>\n",
       "    </tr>\n",
       "    <tr>\n",
       "      <th>737</th>\n",
       "      <td>738</td>\n",
       "      <td>1</td>\n",
       "      <td>1</td>\n",
       "      <td>Lesurer, Mr. Gustave J</td>\n",
       "      <td>male</td>\n",
       "      <td>35.0</td>\n",
       "      <td>0</td>\n",
       "      <td>0</td>\n",
       "      <td>PC 17755</td>\n",
       "      <td>512.3292</td>\n",
       "      <td>B101</td>\n",
       "      <td>C</td>\n",
       "    </tr>\n",
       "    <tr>\n",
       "      <th>301</th>\n",
       "      <td>302</td>\n",
       "      <td>1</td>\n",
       "      <td>3</td>\n",
       "      <td>McCoy, Mr. Bernard</td>\n",
       "      <td>male</td>\n",
       "      <td>NaN</td>\n",
       "      <td>2</td>\n",
       "      <td>0</td>\n",
       "      <td>367226</td>\n",
       "      <td>23.2500</td>\n",
       "      <td>NaN</td>\n",
       "      <td>Q</td>\n",
       "    </tr>\n",
       "    <tr>\n",
       "      <th>761</th>\n",
       "      <td>762</td>\n",
       "      <td>0</td>\n",
       "      <td>3</td>\n",
       "      <td>Nirva, Mr. Iisakki Antino Aijo</td>\n",
       "      <td>male</td>\n",
       "      <td>41.0</td>\n",
       "      <td>0</td>\n",
       "      <td>0</td>\n",
       "      <td>SOTON/O2 3101272</td>\n",
       "      <td>7.1250</td>\n",
       "      <td>NaN</td>\n",
       "      <td>S</td>\n",
       "    </tr>\n",
       "    <tr>\n",
       "      <th>62</th>\n",
       "      <td>63</td>\n",
       "      <td>0</td>\n",
       "      <td>1</td>\n",
       "      <td>Harris, Mr. Henry Birkhardt</td>\n",
       "      <td>male</td>\n",
       "      <td>45.0</td>\n",
       "      <td>1</td>\n",
       "      <td>0</td>\n",
       "      <td>36973</td>\n",
       "      <td>83.4750</td>\n",
       "      <td>C83</td>\n",
       "      <td>S</td>\n",
       "    </tr>\n",
       "    <tr>\n",
       "      <th>407</th>\n",
       "      <td>408</td>\n",
       "      <td>1</td>\n",
       "      <td>2</td>\n",
       "      <td>Richards, Master. William Rowe</td>\n",
       "      <td>male</td>\n",
       "      <td>3.0</td>\n",
       "      <td>1</td>\n",
       "      <td>1</td>\n",
       "      <td>29106</td>\n",
       "      <td>18.7500</td>\n",
       "      <td>NaN</td>\n",
       "      <td>S</td>\n",
       "    </tr>\n",
       "    <tr>\n",
       "      <th>362</th>\n",
       "      <td>363</td>\n",
       "      <td>0</td>\n",
       "      <td>3</td>\n",
       "      <td>Barbara, Mrs. (Catherine David)</td>\n",
       "      <td>female</td>\n",
       "      <td>45.0</td>\n",
       "      <td>0</td>\n",
       "      <td>1</td>\n",
       "      <td>2691</td>\n",
       "      <td>14.4542</td>\n",
       "      <td>NaN</td>\n",
       "      <td>C</td>\n",
       "    </tr>\n",
       "    <tr>\n",
       "      <th>1</th>\n",
       "      <td>2</td>\n",
       "      <td>1</td>\n",
       "      <td>1</td>\n",
       "      <td>Cumings, Mrs. John Bradley (Florence Briggs Th...</td>\n",
       "      <td>female</td>\n",
       "      <td>38.0</td>\n",
       "      <td>1</td>\n",
       "      <td>0</td>\n",
       "      <td>PC 17599</td>\n",
       "      <td>71.2833</td>\n",
       "      <td>C85</td>\n",
       "      <td>C</td>\n",
       "    </tr>\n",
       "    <tr>\n",
       "      <th>268</th>\n",
       "      <td>269</td>\n",
       "      <td>1</td>\n",
       "      <td>1</td>\n",
       "      <td>Graham, Mrs. William Thompson (Edith Junkins)</td>\n",
       "      <td>female</td>\n",
       "      <td>58.0</td>\n",
       "      <td>0</td>\n",
       "      <td>1</td>\n",
       "      <td>PC 17582</td>\n",
       "      <td>153.4625</td>\n",
       "      <td>C125</td>\n",
       "      <td>S</td>\n",
       "    </tr>\n",
       "  </tbody>\n",
       "</table>\n",
       "</div>"
      ],
      "text/plain": [
       "     PassengerId  Survived  Pclass  \\\n",
       "449          450         1       1   \n",
       "630          631         1       1   \n",
       "695          696         0       2   \n",
       "66            67         1       2   \n",
       "663          664         0       3   \n",
       "726          727         1       2   \n",
       "838          839         1       3   \n",
       "737          738         1       1   \n",
       "301          302         1       3   \n",
       "761          762         0       3   \n",
       "62            63         0       1   \n",
       "407          408         1       2   \n",
       "362          363         0       3   \n",
       "1              2         1       1   \n",
       "268          269         1       1   \n",
       "\n",
       "                                                  Name     Sex   Age  SibSp  \\\n",
       "449                     Peuchen, Major. Arthur Godfrey    male  52.0      0   \n",
       "630               Barkworth, Mr. Algernon Henry Wilson    male  80.0      0   \n",
       "695                         Chapman, Mr. Charles Henry    male  52.0      0   \n",
       "66                        Nye, Mrs. (Elizabeth Ramell)  female  29.0      0   \n",
       "663                                   Coleff, Mr. Peju    male  36.0      0   \n",
       "726        Renouf, Mrs. Peter Henry (Lillian Jefferys)  female  30.0      3   \n",
       "838                                    Chip, Mr. Chang    male  32.0      0   \n",
       "737                             Lesurer, Mr. Gustave J    male  35.0      0   \n",
       "301                                 McCoy, Mr. Bernard    male   NaN      2   \n",
       "761                     Nirva, Mr. Iisakki Antino Aijo    male  41.0      0   \n",
       "62                         Harris, Mr. Henry Birkhardt    male  45.0      1   \n",
       "407                     Richards, Master. William Rowe    male   3.0      1   \n",
       "362                    Barbara, Mrs. (Catherine David)  female  45.0      0   \n",
       "1    Cumings, Mrs. John Bradley (Florence Briggs Th...  female  38.0      1   \n",
       "268      Graham, Mrs. William Thompson (Edith Junkins)  female  58.0      0   \n",
       "\n",
       "     Parch            Ticket      Fare Cabin Embarked  \n",
       "449      0            113786   30.5000  C104        S  \n",
       "630      0             27042   30.0000   A23        S  \n",
       "695      0            248731   13.5000   NaN        S  \n",
       "66       0        C.A. 29395   10.5000   F33        S  \n",
       "663      0            349210    7.4958   NaN        S  \n",
       "726      0             31027   21.0000   NaN        S  \n",
       "838      0              1601   56.4958   NaN        S  \n",
       "737      0          PC 17755  512.3292  B101        C  \n",
       "301      0            367226   23.2500   NaN        Q  \n",
       "761      0  SOTON/O2 3101272    7.1250   NaN        S  \n",
       "62       0             36973   83.4750   C83        S  \n",
       "407      1             29106   18.7500   NaN        S  \n",
       "362      1              2691   14.4542   NaN        C  \n",
       "1        0          PC 17599   71.2833   C85        C  \n",
       "268      1          PC 17582  153.4625  C125        S  "
      ]
     },
     "execution_count": 6,
     "metadata": {},
     "output_type": "execute_result"
    }
   ],
   "source": [
    "df.sample(15)"
   ]
  },
  {
   "cell_type": "markdown",
   "id": "90e5a7c1",
   "metadata": {
    "papermill": {
     "duration": 0.013999,
     "end_time": "2023-01-17T16:41:58.408560",
     "exception": false,
     "start_time": "2023-01-17T16:41:58.394561",
     "status": "completed"
    },
    "tags": []
   },
   "source": [
    "> # .describe()"
   ]
  },
  {
   "cell_type": "markdown",
   "id": "7c7e705e",
   "metadata": {
    "papermill": {
     "duration": 0.012368,
     "end_time": "2023-01-17T16:41:58.434405",
     "exception": false,
     "start_time": "2023-01-17T16:41:58.422037",
     "status": "completed"
    },
    "tags": []
   },
   "source": [
    "**describe()** fonksiyonu istatiksel değerleri hesaplar (min, max, mean…) ve bu hesapladıkları değerleri gösterir."
   ]
  },
  {
   "cell_type": "markdown",
   "id": "29fc40e3",
   "metadata": {
    "papermill": {
     "duration": 0.012836,
     "end_time": "2023-01-17T16:41:58.459395",
     "exception": false,
     "start_time": "2023-01-17T16:41:58.446559",
     "status": "completed"
    },
    "tags": []
   },
   "source": [
    "### **Hadi örnek üstünde yapalım!**"
   ]
  },
  {
   "cell_type": "code",
   "execution_count": 7,
   "id": "dd906f41",
   "metadata": {
    "execution": {
     "iopub.execute_input": "2023-01-17T16:41:58.485672Z",
     "iopub.status.busy": "2023-01-17T16:41:58.484982Z",
     "iopub.status.idle": "2023-01-17T16:41:58.531638Z",
     "shell.execute_reply": "2023-01-17T16:41:58.530207Z"
    },
    "papermill": {
     "duration": 0.063118,
     "end_time": "2023-01-17T16:41:58.534565",
     "exception": false,
     "start_time": "2023-01-17T16:41:58.471447",
     "status": "completed"
    },
    "tags": []
   },
   "outputs": [
    {
     "data": {
      "text/html": [
       "<div>\n",
       "<style scoped>\n",
       "    .dataframe tbody tr th:only-of-type {\n",
       "        vertical-align: middle;\n",
       "    }\n",
       "\n",
       "    .dataframe tbody tr th {\n",
       "        vertical-align: top;\n",
       "    }\n",
       "\n",
       "    .dataframe thead th {\n",
       "        text-align: right;\n",
       "    }\n",
       "</style>\n",
       "<table border=\"1\" class=\"dataframe\">\n",
       "  <thead>\n",
       "    <tr style=\"text-align: right;\">\n",
       "      <th></th>\n",
       "      <th>PassengerId</th>\n",
       "      <th>Survived</th>\n",
       "      <th>Pclass</th>\n",
       "      <th>Age</th>\n",
       "      <th>SibSp</th>\n",
       "      <th>Parch</th>\n",
       "      <th>Fare</th>\n",
       "    </tr>\n",
       "  </thead>\n",
       "  <tbody>\n",
       "    <tr>\n",
       "      <th>count</th>\n",
       "      <td>891.000000</td>\n",
       "      <td>891.000000</td>\n",
       "      <td>891.000000</td>\n",
       "      <td>714.000000</td>\n",
       "      <td>891.000000</td>\n",
       "      <td>891.000000</td>\n",
       "      <td>891.000000</td>\n",
       "    </tr>\n",
       "    <tr>\n",
       "      <th>mean</th>\n",
       "      <td>446.000000</td>\n",
       "      <td>0.383838</td>\n",
       "      <td>2.308642</td>\n",
       "      <td>29.699118</td>\n",
       "      <td>0.523008</td>\n",
       "      <td>0.381594</td>\n",
       "      <td>32.204208</td>\n",
       "    </tr>\n",
       "    <tr>\n",
       "      <th>std</th>\n",
       "      <td>257.353842</td>\n",
       "      <td>0.486592</td>\n",
       "      <td>0.836071</td>\n",
       "      <td>14.526497</td>\n",
       "      <td>1.102743</td>\n",
       "      <td>0.806057</td>\n",
       "      <td>49.693429</td>\n",
       "    </tr>\n",
       "    <tr>\n",
       "      <th>min</th>\n",
       "      <td>1.000000</td>\n",
       "      <td>0.000000</td>\n",
       "      <td>1.000000</td>\n",
       "      <td>0.420000</td>\n",
       "      <td>0.000000</td>\n",
       "      <td>0.000000</td>\n",
       "      <td>0.000000</td>\n",
       "    </tr>\n",
       "    <tr>\n",
       "      <th>25%</th>\n",
       "      <td>223.500000</td>\n",
       "      <td>0.000000</td>\n",
       "      <td>2.000000</td>\n",
       "      <td>20.125000</td>\n",
       "      <td>0.000000</td>\n",
       "      <td>0.000000</td>\n",
       "      <td>7.910400</td>\n",
       "    </tr>\n",
       "    <tr>\n",
       "      <th>50%</th>\n",
       "      <td>446.000000</td>\n",
       "      <td>0.000000</td>\n",
       "      <td>3.000000</td>\n",
       "      <td>28.000000</td>\n",
       "      <td>0.000000</td>\n",
       "      <td>0.000000</td>\n",
       "      <td>14.454200</td>\n",
       "    </tr>\n",
       "    <tr>\n",
       "      <th>75%</th>\n",
       "      <td>668.500000</td>\n",
       "      <td>1.000000</td>\n",
       "      <td>3.000000</td>\n",
       "      <td>38.000000</td>\n",
       "      <td>1.000000</td>\n",
       "      <td>0.000000</td>\n",
       "      <td>31.000000</td>\n",
       "    </tr>\n",
       "    <tr>\n",
       "      <th>max</th>\n",
       "      <td>891.000000</td>\n",
       "      <td>1.000000</td>\n",
       "      <td>3.000000</td>\n",
       "      <td>80.000000</td>\n",
       "      <td>8.000000</td>\n",
       "      <td>6.000000</td>\n",
       "      <td>512.329200</td>\n",
       "    </tr>\n",
       "  </tbody>\n",
       "</table>\n",
       "</div>"
      ],
      "text/plain": [
       "       PassengerId    Survived      Pclass         Age       SibSp  \\\n",
       "count   891.000000  891.000000  891.000000  714.000000  891.000000   \n",
       "mean    446.000000    0.383838    2.308642   29.699118    0.523008   \n",
       "std     257.353842    0.486592    0.836071   14.526497    1.102743   \n",
       "min       1.000000    0.000000    1.000000    0.420000    0.000000   \n",
       "25%     223.500000    0.000000    2.000000   20.125000    0.000000   \n",
       "50%     446.000000    0.000000    3.000000   28.000000    0.000000   \n",
       "75%     668.500000    1.000000    3.000000   38.000000    1.000000   \n",
       "max     891.000000    1.000000    3.000000   80.000000    8.000000   \n",
       "\n",
       "            Parch        Fare  \n",
       "count  891.000000  891.000000  \n",
       "mean     0.381594   32.204208  \n",
       "std      0.806057   49.693429  \n",
       "min      0.000000    0.000000  \n",
       "25%      0.000000    7.910400  \n",
       "50%      0.000000   14.454200  \n",
       "75%      0.000000   31.000000  \n",
       "max      6.000000  512.329200  "
      ]
     },
     "execution_count": 7,
     "metadata": {},
     "output_type": "execute_result"
    }
   ],
   "source": [
    "df.describe()"
   ]
  },
  {
   "cell_type": "markdown",
   "id": "ff86b0f3",
   "metadata": {
    "papermill": {
     "duration": 0.012222,
     "end_time": "2023-01-17T16:41:58.560278",
     "exception": false,
     "start_time": "2023-01-17T16:41:58.548056",
     "status": "completed"
    },
    "tags": []
   },
   "source": [
    "> # .corr()"
   ]
  },
  {
   "cell_type": "markdown",
   "id": "cda21a18",
   "metadata": {
    "papermill": {
     "duration": 0.011957,
     "end_time": "2023-01-17T16:41:58.584626",
     "exception": false,
     "start_time": "2023-01-17T16:41:58.572669",
     "status": "completed"
    },
    "tags": []
   },
   "source": [
    "Her şeyin birbiriyle bir ilişkisi vardır. Hatta sizin bu yazıyı okumanız ile yarın sabah kahvaltınızda yumurta yemenizin bile bir bağlantısı var (En azından matematşksel olarak 😅). **corr()** fonksiyonu sütunların birbiri ile olan korelasyonunu bizlere gösterir."
   ]
  },
  {
   "cell_type": "markdown",
   "id": "f71e6071",
   "metadata": {
    "papermill": {
     "duration": 0.012892,
     "end_time": "2023-01-17T16:41:58.609854",
     "exception": false,
     "start_time": "2023-01-17T16:41:58.596962",
     "status": "completed"
    },
    "tags": []
   },
   "source": [
    "### **Hadi örnek üstünde yapalım!**"
   ]
  },
  {
   "cell_type": "code",
   "execution_count": 8,
   "id": "cacdbc9d",
   "metadata": {
    "execution": {
     "iopub.execute_input": "2023-01-17T16:41:58.637752Z",
     "iopub.status.busy": "2023-01-17T16:41:58.636578Z",
     "iopub.status.idle": "2023-01-17T16:41:58.656799Z",
     "shell.execute_reply": "2023-01-17T16:41:58.655436Z"
    },
    "papermill": {
     "duration": 0.036815,
     "end_time": "2023-01-17T16:41:58.659524",
     "exception": false,
     "start_time": "2023-01-17T16:41:58.622709",
     "status": "completed"
    },
    "tags": []
   },
   "outputs": [
    {
     "data": {
      "text/html": [
       "<div>\n",
       "<style scoped>\n",
       "    .dataframe tbody tr th:only-of-type {\n",
       "        vertical-align: middle;\n",
       "    }\n",
       "\n",
       "    .dataframe tbody tr th {\n",
       "        vertical-align: top;\n",
       "    }\n",
       "\n",
       "    .dataframe thead th {\n",
       "        text-align: right;\n",
       "    }\n",
       "</style>\n",
       "<table border=\"1\" class=\"dataframe\">\n",
       "  <thead>\n",
       "    <tr style=\"text-align: right;\">\n",
       "      <th></th>\n",
       "      <th>PassengerId</th>\n",
       "      <th>Survived</th>\n",
       "      <th>Pclass</th>\n",
       "      <th>Age</th>\n",
       "      <th>SibSp</th>\n",
       "      <th>Parch</th>\n",
       "      <th>Fare</th>\n",
       "    </tr>\n",
       "  </thead>\n",
       "  <tbody>\n",
       "    <tr>\n",
       "      <th>PassengerId</th>\n",
       "      <td>1.000000</td>\n",
       "      <td>-0.005007</td>\n",
       "      <td>-0.035144</td>\n",
       "      <td>0.036847</td>\n",
       "      <td>-0.057527</td>\n",
       "      <td>-0.001652</td>\n",
       "      <td>0.012658</td>\n",
       "    </tr>\n",
       "    <tr>\n",
       "      <th>Survived</th>\n",
       "      <td>-0.005007</td>\n",
       "      <td>1.000000</td>\n",
       "      <td>-0.338481</td>\n",
       "      <td>-0.077221</td>\n",
       "      <td>-0.035322</td>\n",
       "      <td>0.081629</td>\n",
       "      <td>0.257307</td>\n",
       "    </tr>\n",
       "    <tr>\n",
       "      <th>Pclass</th>\n",
       "      <td>-0.035144</td>\n",
       "      <td>-0.338481</td>\n",
       "      <td>1.000000</td>\n",
       "      <td>-0.369226</td>\n",
       "      <td>0.083081</td>\n",
       "      <td>0.018443</td>\n",
       "      <td>-0.549500</td>\n",
       "    </tr>\n",
       "    <tr>\n",
       "      <th>Age</th>\n",
       "      <td>0.036847</td>\n",
       "      <td>-0.077221</td>\n",
       "      <td>-0.369226</td>\n",
       "      <td>1.000000</td>\n",
       "      <td>-0.308247</td>\n",
       "      <td>-0.189119</td>\n",
       "      <td>0.096067</td>\n",
       "    </tr>\n",
       "    <tr>\n",
       "      <th>SibSp</th>\n",
       "      <td>-0.057527</td>\n",
       "      <td>-0.035322</td>\n",
       "      <td>0.083081</td>\n",
       "      <td>-0.308247</td>\n",
       "      <td>1.000000</td>\n",
       "      <td>0.414838</td>\n",
       "      <td>0.159651</td>\n",
       "    </tr>\n",
       "    <tr>\n",
       "      <th>Parch</th>\n",
       "      <td>-0.001652</td>\n",
       "      <td>0.081629</td>\n",
       "      <td>0.018443</td>\n",
       "      <td>-0.189119</td>\n",
       "      <td>0.414838</td>\n",
       "      <td>1.000000</td>\n",
       "      <td>0.216225</td>\n",
       "    </tr>\n",
       "    <tr>\n",
       "      <th>Fare</th>\n",
       "      <td>0.012658</td>\n",
       "      <td>0.257307</td>\n",
       "      <td>-0.549500</td>\n",
       "      <td>0.096067</td>\n",
       "      <td>0.159651</td>\n",
       "      <td>0.216225</td>\n",
       "      <td>1.000000</td>\n",
       "    </tr>\n",
       "  </tbody>\n",
       "</table>\n",
       "</div>"
      ],
      "text/plain": [
       "             PassengerId  Survived    Pclass       Age     SibSp     Parch  \\\n",
       "PassengerId     1.000000 -0.005007 -0.035144  0.036847 -0.057527 -0.001652   \n",
       "Survived       -0.005007  1.000000 -0.338481 -0.077221 -0.035322  0.081629   \n",
       "Pclass         -0.035144 -0.338481  1.000000 -0.369226  0.083081  0.018443   \n",
       "Age             0.036847 -0.077221 -0.369226  1.000000 -0.308247 -0.189119   \n",
       "SibSp          -0.057527 -0.035322  0.083081 -0.308247  1.000000  0.414838   \n",
       "Parch          -0.001652  0.081629  0.018443 -0.189119  0.414838  1.000000   \n",
       "Fare            0.012658  0.257307 -0.549500  0.096067  0.159651  0.216225   \n",
       "\n",
       "                 Fare  \n",
       "PassengerId  0.012658  \n",
       "Survived     0.257307  \n",
       "Pclass      -0.549500  \n",
       "Age          0.096067  \n",
       "SibSp        0.159651  \n",
       "Parch        0.216225  \n",
       "Fare         1.000000  "
      ]
     },
     "execution_count": 8,
     "metadata": {},
     "output_type": "execute_result"
    }
   ],
   "source": [
    "df.corr()"
   ]
  },
  {
   "cell_type": "markdown",
   "id": "e985f898",
   "metadata": {
    "papermill": {
     "duration": 0.012356,
     "end_time": "2023-01-17T16:41:58.685828",
     "exception": false,
     "start_time": "2023-01-17T16:41:58.673472",
     "status": "completed"
    },
    "tags": []
   },
   "source": [
    "> # .info()"
   ]
  },
  {
   "cell_type": "markdown",
   "id": "d3976460",
   "metadata": {
    "papermill": {
     "duration": 0.012183,
     "end_time": "2023-01-17T16:41:58.710669",
     "exception": false,
     "start_time": "2023-01-17T16:41:58.698486",
     "status": "completed"
    },
    "tags": []
   },
   "source": [
    "**info()** fonksiyonu bize veri hakkında genel bilgiler verir. Verinin türü nedir? object, integer, or float? Kaç tane sütunlar da satır dolu?\n",
    "\n",
    "\n",
    "**info()** fonksiyonu bize bunların cevabını verir."
   ]
  },
  {
   "cell_type": "markdown",
   "id": "e6e32afc",
   "metadata": {
    "papermill": {
     "duration": 0.013311,
     "end_time": "2023-01-17T16:41:58.737179",
     "exception": false,
     "start_time": "2023-01-17T16:41:58.723868",
     "status": "completed"
    },
    "tags": []
   },
   "source": [
    "### **Hadi örnek üstünde yapalım!**"
   ]
  },
  {
   "cell_type": "code",
   "execution_count": 9,
   "id": "ef76af9b",
   "metadata": {
    "execution": {
     "iopub.execute_input": "2023-01-17T16:41:58.765938Z",
     "iopub.status.busy": "2023-01-17T16:41:58.765517Z",
     "iopub.status.idle": "2023-01-17T16:41:58.786259Z",
     "shell.execute_reply": "2023-01-17T16:41:58.784645Z"
    },
    "papermill": {
     "duration": 0.037965,
     "end_time": "2023-01-17T16:41:58.788909",
     "exception": false,
     "start_time": "2023-01-17T16:41:58.750944",
     "status": "completed"
    },
    "tags": []
   },
   "outputs": [
    {
     "name": "stdout",
     "output_type": "stream",
     "text": [
      "<class 'pandas.core.frame.DataFrame'>\n",
      "RangeIndex: 891 entries, 0 to 890\n",
      "Data columns (total 12 columns):\n",
      " #   Column       Non-Null Count  Dtype  \n",
      "---  ------       --------------  -----  \n",
      " 0   PassengerId  891 non-null    int64  \n",
      " 1   Survived     891 non-null    int64  \n",
      " 2   Pclass       891 non-null    int64  \n",
      " 3   Name         891 non-null    object \n",
      " 4   Sex          891 non-null    object \n",
      " 5   Age          714 non-null    float64\n",
      " 6   SibSp        891 non-null    int64  \n",
      " 7   Parch        891 non-null    int64  \n",
      " 8   Ticket       891 non-null    object \n",
      " 9   Fare         891 non-null    float64\n",
      " 10  Cabin        204 non-null    object \n",
      " 11  Embarked     889 non-null    object \n",
      "dtypes: float64(2), int64(5), object(5)\n",
      "memory usage: 83.7+ KB\n"
     ]
    }
   ],
   "source": [
    "df.info()"
   ]
  },
  {
   "cell_type": "markdown",
   "id": "a8b8312c",
   "metadata": {
    "papermill": {
     "duration": 0.01315,
     "end_time": "2023-01-17T16:41:58.817867",
     "exception": false,
     "start_time": "2023-01-17T16:41:58.804717",
     "status": "completed"
    },
    "tags": []
   },
   "source": [
    "> # isnull().sum()"
   ]
  },
  {
   "cell_type": "markdown",
   "id": "3cc8d91c",
   "metadata": {
    "papermill": {
     "duration": 0.012521,
     "end_time": "2023-01-17T16:41:58.843288",
     "exception": false,
     "start_time": "2023-01-17T16:41:58.830767",
     "status": "completed"
    },
    "tags": []
   },
   "source": [
    "**isnull().sum()**  burda iki tane gonksiyon var: **isnull()** ve **sum()**.\n",
    "- **isnull()** fonksiyonu her satır için True veya False dödürür, eğer eksik veriyse True, değilse False.\n",
    "- **sum()** fonksiyonu satırlardaki True değerlerini toplar bu sayede her sütunda kaç eksik veri var bunu görmüş oluruz."
   ]
  },
  {
   "cell_type": "markdown",
   "id": "1ccaad7f",
   "metadata": {
    "papermill": {
     "duration": 0.013525,
     "end_time": "2023-01-17T16:41:58.869977",
     "exception": false,
     "start_time": "2023-01-17T16:41:58.856452",
     "status": "completed"
    },
    "tags": []
   },
   "source": [
    "### **Hadi örnek üstünde yapalım!**"
   ]
  },
  {
   "cell_type": "code",
   "execution_count": 10,
   "id": "c866d10f",
   "metadata": {
    "execution": {
     "iopub.execute_input": "2023-01-17T16:41:58.899163Z",
     "iopub.status.busy": "2023-01-17T16:41:58.898733Z",
     "iopub.status.idle": "2023-01-17T16:41:58.909403Z",
     "shell.execute_reply": "2023-01-17T16:41:58.908108Z"
    },
    "papermill": {
     "duration": 0.028172,
     "end_time": "2023-01-17T16:41:58.912021",
     "exception": false,
     "start_time": "2023-01-17T16:41:58.883849",
     "status": "completed"
    },
    "tags": []
   },
   "outputs": [
    {
     "data": {
      "text/plain": [
       "PassengerId      0\n",
       "Survived         0\n",
       "Pclass           0\n",
       "Name             0\n",
       "Sex              0\n",
       "Age            177\n",
       "SibSp            0\n",
       "Parch            0\n",
       "Ticket           0\n",
       "Fare             0\n",
       "Cabin          687\n",
       "Embarked         2\n",
       "dtype: int64"
      ]
     },
     "execution_count": 10,
     "metadata": {},
     "output_type": "execute_result"
    }
   ],
   "source": [
    "df.isnull().sum()"
   ]
  },
  {
   "cell_type": "markdown",
   "id": "5f93888c",
   "metadata": {
    "papermill": {
     "duration": 0.01372,
     "end_time": "2023-01-17T16:41:58.941137",
     "exception": false,
     "start_time": "2023-01-17T16:41:58.927417",
     "status": "completed"
    },
    "tags": []
   },
   "source": [
    "> # .shape"
   ]
  },
  {
   "cell_type": "markdown",
   "id": "b3e705fe",
   "metadata": {
    "papermill": {
     "duration": 0.013146,
     "end_time": "2023-01-17T16:41:58.968919",
     "exception": false,
     "start_time": "2023-01-17T16:41:58.955773",
     "status": "completed"
    },
    "tags": []
   },
   "source": [
    "**shape** fonksiyonu veride kaç satır ve kaç sütun olduğunu gösterir."
   ]
  },
  {
   "cell_type": "markdown",
   "id": "c779c1da",
   "metadata": {
    "papermill": {
     "duration": 0.013038,
     "end_time": "2023-01-17T16:41:58.996008",
     "exception": false,
     "start_time": "2023-01-17T16:41:58.982970",
     "status": "completed"
    },
    "tags": []
   },
   "source": [
    "### **Hadi örnek üstünde yapalım!**"
   ]
  },
  {
   "cell_type": "code",
   "execution_count": 11,
   "id": "e8d408d3",
   "metadata": {
    "execution": {
     "iopub.execute_input": "2023-01-17T16:41:59.025191Z",
     "iopub.status.busy": "2023-01-17T16:41:59.024092Z",
     "iopub.status.idle": "2023-01-17T16:41:59.031300Z",
     "shell.execute_reply": "2023-01-17T16:41:59.030240Z"
    },
    "papermill": {
     "duration": 0.023983,
     "end_time": "2023-01-17T16:41:59.033916",
     "exception": false,
     "start_time": "2023-01-17T16:41:59.009933",
     "status": "completed"
    },
    "tags": []
   },
   "outputs": [
    {
     "data": {
      "text/plain": [
       "(891, 12)"
      ]
     },
     "execution_count": 11,
     "metadata": {},
     "output_type": "execute_result"
    }
   ],
   "source": [
    "df.shape"
   ]
  },
  {
   "cell_type": "markdown",
   "id": "c1d6f05a",
   "metadata": {
    "papermill": {
     "duration": 0.016777,
     "end_time": "2023-01-17T16:41:59.066822",
     "exception": false,
     "start_time": "2023-01-17T16:41:59.050045",
     "status": "completed"
    },
    "tags": []
   },
   "source": [
    "Verimizde 891 satır 12 sütun var."
   ]
  },
  {
   "cell_type": "markdown",
   "id": "889b4624",
   "metadata": {
    "papermill": {
     "duration": 0.013289,
     "end_time": "2023-01-17T16:41:59.094094",
     "exception": false,
     "start_time": "2023-01-17T16:41:59.080805",
     "status": "completed"
    },
    "tags": []
   },
   "source": [
    "---"
   ]
  },
  {
   "cell_type": "markdown",
   "id": "01568035",
   "metadata": {
    "papermill": {
     "duration": 0.012772,
     "end_time": "2023-01-17T16:41:59.120282",
     "exception": false,
     "start_time": "2023-01-17T16:41:59.107510",
     "status": "completed"
    },
    "tags": []
   },
   "source": [
    "![](https://miro.medium.com/max/1400/0*Tc3F4V9P2eBJBHlt)"
   ]
  },
  {
   "cell_type": "markdown",
   "id": "476d11e3",
   "metadata": {
    "papermill": {
     "duration": 0.012761,
     "end_time": "2023-01-17T16:41:59.147058",
     "exception": false,
     "start_time": "2023-01-17T16:41:59.134297",
     "status": "completed"
    },
    "tags": []
   },
   "source": [
    "[Unsplash](https://unsplash.com/?utm_source=medium&utm_medium=referral)'de [david Griffiths](https://unsplash.com/@itscakefortea?utm_source=medium&utm_medium=referral) tarafından bir fotoğraf"
   ]
  },
  {
   "cell_type": "markdown",
   "id": "1a4d5189",
   "metadata": {
    "papermill": {
     "duration": 0.014652,
     "end_time": "2023-01-17T16:41:59.177267",
     "exception": false,
     "start_time": "2023-01-17T16:41:59.162615",
     "status": "completed"
    },
    "tags": []
   },
   "source": [
    "**EDA** sayesinde verilerden daha çok anlam çıkarabilceksiniz.\n",
    "\n",
    "\n",
    "**Peki verilerin hepsini değil sadece ihtiyacımız olanı, sadece belli kısımlarını almak istersek ne yapmalıyız?**\n",
    "\n",
    "\n",
    "Öğrenmek isterseniz :"
   ]
  },
  {
   "cell_type": "markdown",
   "id": "ee654baa",
   "metadata": {
    "papermill": {
     "duration": 0.014806,
     "end_time": "2023-01-17T16:41:59.207364",
     "exception": false,
     "start_time": "2023-01-17T16:41:59.192558",
     "status": "completed"
    },
    "tags": []
   },
   "source": [
    "# **Beklemede kalın!**\n",
    "***\"Veri filitreleme\"*** yazımız gelicek!"
   ]
  },
  {
   "cell_type": "markdown",
   "id": "ddc1a0cb",
   "metadata": {
    "papermill": {
     "duration": 0.014068,
     "end_time": "2023-01-17T16:41:59.235761",
     "exception": false,
     "start_time": "2023-01-17T16:41:59.221693",
     "status": "completed"
    },
    "tags": []
   },
   "source": [
    "---\n",
    "\n",
    "# Ahmet Talha Bektaş\n",
    "> 📧 [E-mail Hesabım](mailto:atalhabektas@gmail.com)\n",
    "\n",
    "> 🔗 [LinkedIn Hesabım](https://www.linkedin.com/in/ahmet-talha-bekta%C5%9F-056844216)\n",
    "\n",
    "> 💻 [GitHub Hesabım](https://github.com/ahmettalhabektastr)\n",
    "\n",
    "> 👨‍💻 [Kaggle Hesabım](https://www.kaggle.com/ahmettalhabektastr)\n",
    "\n",
    "> 📋 [Medium Hesabım](https://medium.com/@ahmettalhabektas_tr)"
   ]
  }
 ],
 "metadata": {
  "kernelspec": {
   "display_name": "Python 3",
   "language": "python",
   "name": "python3"
  },
  "language_info": {
   "codemirror_mode": {
    "name": "ipython",
    "version": 3
   },
   "file_extension": ".py",
   "mimetype": "text/x-python",
   "name": "python",
   "nbconvert_exporter": "python",
   "pygments_lexer": "ipython3",
   "version": "3.7.12"
  },
  "papermill": {
   "default_parameters": {},
   "duration": 14.004162,
   "end_time": "2023-01-17T16:41:59.972411",
   "environment_variables": {},
   "exception": null,
   "input_path": "__notebook__.ipynb",
   "output_path": "__notebook__.ipynb",
   "parameters": {},
   "start_time": "2023-01-17T16:41:45.968249",
   "version": "2.3.4"
  }
 },
 "nbformat": 4,
 "nbformat_minor": 5
}
